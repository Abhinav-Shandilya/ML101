{
  "nbformat": 4,
  "nbformat_minor": 0,
  "metadata": {
    "colab": {
      "provenance": [],
      "authorship_tag": "ABX9TyPBB5t+UnDb7OqlBoexOl8/",
      "include_colab_link": true
    },
    "kernelspec": {
      "name": "python3",
      "display_name": "Python 3"
    },
    "language_info": {
      "name": "python"
    }
  },
  "cells": [
    {
      "cell_type": "markdown",
      "metadata": {
        "id": "view-in-github",
        "colab_type": "text"
      },
      "source": [
        "<a href=\"https://colab.research.google.com/github/Abhinav-Shandilya/ML101/blob/master/CR_EDA.ipynb\" target=\"_parent\"><img src=\"https://colab.research.google.com/assets/colab-badge.svg\" alt=\"Open In Colab\"/></a>"
      ]
    },
    {
      "cell_type": "code",
      "execution_count": null,
      "metadata": {
        "id": "JDDorZqwJpC4"
      },
      "outputs": [],
      "source": [
        "#Importing Required Libraries\n",
        "import pandas as pd\n",
        "import numpy as np\n",
        "from sklearn.impute import KNNImputer\n",
        "\n",
        "from sklearn.model_selection import train_test_split\n",
        "from sklearn.ensemble import GradientBoostingClassifier, RandomForestClassifier\n",
        "from sklearn.metrics import accuracy_score,classification_report,confusion_matrix\n",
        "from sklearn.model_selection import cross_val_score\n",
        "from sklearn.model_selection import GridSearchCV\n",
        "from sklearn.feature_selection import SelectKBest\n",
        "from sklearn.feature_selection import mutual_info_regression, mutual_info_classif\n",
        "from sklearn.feature_selection import SelectKBest\n",
        "from sklearn.feature_selection import f_classif\n",
        "\n",
        "from pprint import pprint\n",
        "from matplotlib import pyplot\n",
        "\n",
        "import gc\n",
        "\n",
        "%matplotlib inline\n",
        "\n",
        "pd.set_option('display.max_rows', 500)"
      ]
    },
    {
      "cell_type": "code",
      "source": [
        "# Reading the dataset\n",
        "df = pd.read_csv('/content/dataset - v2.csv')"
      ],
      "metadata": {
        "id": "EKeHwvCfJwim"
      },
      "execution_count": null,
      "outputs": []
    },
    {
      "cell_type": "markdown",
      "source": [
        "## Basic EDA"
      ],
      "metadata": {
        "id": "_683EoSe8Cu0"
      }
    },
    {
      "cell_type": "code",
      "source": [
        "df.shape"
      ],
      "metadata": {
        "colab": {
          "base_uri": "https://localhost:8080/"
        },
        "id": "BsMfmY-0LRXe",
        "outputId": "acd5f16e-8a01-4db9-f4ac-d7d72b0c1e7b"
      },
      "execution_count": null,
      "outputs": [
        {
          "output_type": "execute_result",
          "data": {
            "text/plain": [
              "(6246, 62)"
            ]
          },
          "metadata": {},
          "execution_count": 3
        }
      ]
    },
    {
      "cell_type": "code",
      "source": [
        "df.dtypes"
      ],
      "metadata": {
        "colab": {
          "base_uri": "https://localhost:8080/"
        },
        "id": "0o778inzuLsT",
        "outputId": "4caf1669-61f8-4098-edb7-bdb53eb1d3de"
      },
      "execution_count": null,
      "outputs": [
        {
          "output_type": "execute_result",
          "data": {
            "text/plain": [
              "decision_id       object\n",
              "label             object\n",
              "default          float64\n",
              "v1               float64\n",
              "v2               float64\n",
              "v3               float64\n",
              "v4               float64\n",
              "v5               float64\n",
              "v6               float64\n",
              "v7               float64\n",
              "v8               float64\n",
              "v9               float64\n",
              "v10              float64\n",
              "v11              float64\n",
              "v12              float64\n",
              "v13              float64\n",
              "v14              float64\n",
              "v15              float64\n",
              "v16              float64\n",
              "v17              float64\n",
              "v18              float64\n",
              "v19              float64\n",
              "v20              float64\n",
              "v21              float64\n",
              "v22              float64\n",
              "v23              float64\n",
              "v24              float64\n",
              "v25              float64\n",
              "v26              float64\n",
              "v27              float64\n",
              "v28              float64\n",
              "v29              float64\n",
              "v30              float64\n",
              "v31              float64\n",
              "v32              float64\n",
              "v33              float64\n",
              "v34              float64\n",
              "v35              float64\n",
              "v36              float64\n",
              "v37              float64\n",
              "v38              float64\n",
              "v39              float64\n",
              "v40              float64\n",
              "v41              float64\n",
              "v42              float64\n",
              "v43              float64\n",
              "v44              float64\n",
              "v45              float64\n",
              "v46              float64\n",
              "v47              float64\n",
              "v48              float64\n",
              "v49              float64\n",
              "v50              float64\n",
              "brand             object\n",
              "carrier           object\n",
              "device_name       object\n",
              "gms_version       object\n",
              "manufacturer      object\n",
              "network_type      object\n",
              "screen_height    float64\n",
              "screen_width     float64\n",
              "screen_dpi        object\n",
              "dtype: object"
            ]
          },
          "metadata": {},
          "execution_count": 4
        }
      ]
    },
    {
      "cell_type": "code",
      "source": [
        "#Checking the cardinality in categorical columns\n",
        "for col in ['brand', 'carrier', 'device_name', 'gms_version', 'manufacturer', 'network_type', 'screen_dpi']:\n",
        "  print (col, ' ', df[col].unique())"
      ],
      "metadata": {
        "colab": {
          "base_uri": "https://localhost:8080/"
        },
        "id": "4qpzkHWexWYW",
        "outputId": "a0caec17-a1ca-4845-ca75-42ed1116502e"
      },
      "execution_count": null,
      "outputs": [
        {
          "output_type": "stream",
          "name": "stdout",
          "text": [
            "brand   ['OPPO' '1cb6aef939f56e90' 'YU' '943a681d922e77b' 'samsung' 'realme'\n",
            " 'vivo' 'xiaomi' nan 'Xiaomi' 'OnePlus' 'Redmi' 'Nokia' '7e4d22a0ca0244f7'\n",
            " 'Sony' 'Realme' 'a7843bd50112ec71' '8bec5ad6eb021aa4' 'a17aca62e3b19b4d'\n",
            " '1208381842e66fb5' '8cb49a96badb7f12' 'motorola' 'HONOR' 'Itel'\n",
            " 'Panasonic' 'TECNO' '27be5a2e9588597e' '8796dc833e34fc5c'\n",
            " 'ab97eda887584573' 'e2384a33edeba437' 'b28e8768d9ec3285'\n",
            " '40f8abb15f6a5ef7' 'asus' '4ee5ecfd40fc3cd6' '17ca98a1a7dbbc22'\n",
            " '4107e8c9953e117c' 'Lenovo' 'Micromax' 'GIONEE' 'ffb6807133aecff9' 'XOLO'\n",
            " '10or' 'HUAWEI' 'POCO' 'lenovo' '7a01e20fb17e3eac' '1adf226181a300eb'\n",
            " 'Infinix' 'Lava' 'google' 'lge' '251e29199c46a339' '5c8f49640f7eb224'\n",
            " 'df7be29e346d4dde' 'a7c6dd6eae25d662' 'LAVA' '4450fcb19f81444a'\n",
            " '3a11767695dabcf9' 'b4c945ed35628b2b' 'b8d9440b1bcc0cb3'\n",
            " 'd877a7b01ed5ba38' '77b4e1f04c46481e' 'cff5f4d85210c0d3'\n",
            " '649e96b8d01262a2' '1730e7cdbab4c55a' '677d624e76803d3e'\n",
            " '789c047a3b437159' '6ac06f95041ff894' '520c1e859a4c9f50'\n",
            " '47caa4baeae66f39' 'f17f4bfb031bb803' 'newspice' 'ee3a4f4e03429a25'\n",
            " '44a24312b207ef71' '4c8ae00f864763d8' 'Letv' '4f5fe9301d7f0b2c' 'Coolpad'\n",
            " 'LYF' 'mobiistar' '17d36a6e6104a477' 'Huawei' 'a9ce4a0ac927a9f1'\n",
            " '5463028d842eeaf2' 'htc' '39d445afb8983e1b' '49d0b91ce95dc839' 'COMIO'\n",
            " '194aa765df7da87c' 'a1b3eb3c541341f9' '8f34829a209ff2d9'\n",
            " 'c69800f2c26dd60f' '300edd68063b43d' '731eb65cad2ca4b5'\n",
            " 'cb6a8a11bab41046' '82707da622d359b9' '802ce02fc25bf9bf'\n",
            " '1a7d0caa8ba28289' '3032cc9fe61ad9f1' 'e5de0fa48d7629dd'\n",
            " '78adb0e0e5b1d673' 'd18ea15252db6fff' '869af22cc743b452'\n",
            " 'b30a8b202fb985af' '99ac59a7c41c622' '280a257133af1858' '5f9a74cd50c6f34'\n",
            " 'fb2aec14434e5646' '59a44e5316aed709' '685928fbee2676c2'\n",
            " '2ffdd438d887f054' 'ef113b21bdfd3f45' 'b21f282f6ac8f3c8'\n",
            " '771398219c5652fb' '19335c0313cf23ec' 'ccb60eb8fadf00a4'\n",
            " '3ff4c3ac244b6755' '873683078f0023c3' '45280cd6a92fca56'\n",
            " '176c60068a1469d8' '9cafffa20ef4263a' 'fd273f847ab9035f'\n",
            " 'b9118449633ba06b' '52c595a243cdd2fc' '852ba46dc5d5288c'\n",
            " 'd1bb53cbbd52df5d' 'f6322538139b7f03' 'd6a06ba14a189a41'\n",
            " '911d7d9d5f8e4d5f' '2a050317f651e7a6' 'b666b7d117b02368'\n",
            " 'f11981384971a770' 'InFocus' 'd20af0473af0fc32' 'Xolo' '92ef902e12494d36'\n",
            " '7934c27953283e10' '290afb5e1514459c' '90425c939c5d8fbd'\n",
            " '79d0834e85ef26c1' '9a51ed7ff74f1d56' 'fea7971a14940b1b'\n",
            " 'ed08e8c02c88385f' '8df86517348945ba' '57867a9346871c77'\n",
            " '7c631aff61de4896' '4d58335538104b9' '387667587376cca8'\n",
            " 'afeb4783a33238ab' '610c7957ba97229e' 'cd7616f41174ac61'\n",
            " '54742e5faf2d99d9' '3a3d8bb738931bb2' '26e559905fcaee9a'\n",
            " '7e06efba442220e0' '6eff4c48f8b512c6' 'blackberry' 'c00ee9e7082506c9'\n",
            " '4d20c1f98525f745' 'e5568cc397de6275' 'f86449e16c365dd2'\n",
            " '90a302727d8e36b0' 'a3f2c18ce8263677' 'ae3e7da8cc36db6'\n",
            " '30da71e4568a978e' '6b6737e3175762c4' 'e75d6b6dbdfc2e60'\n",
            " 'bd770c697ee47b7a' '8489d0dc50f083fc']\n",
            "carrier   ['Jio 4G' 'airtel' nan 'Vi India' 'IND airtel' 'Idea' '!dea' 'JIO 4G'\n",
            " 'Airtel' 'Vodafone IN' 'JIO 4G | Jio 4G' 'Airtel | airtel' 'VIL' 'JIO'\n",
            " 'Vodafone' 'Vi India | Vodafone IN' 'BSNL Mobile'\n",
            " 'BSNL Mobile | BSNL MOBILE' 'Vi is here' 'No service' 'Vi India | Idea'\n",
            " 'IND AirTel' 'AIRTEL' 'AirTel' 'BSNL MOBILE' 'IDEA' 'Vodafone IN | Idea'\n",
            " 'airtel | PLATINUM' 'CellOne' 'AIRTEL | airtel' 'Idea Cellular Ltd'\n",
            " 'Vi India | VIL' 'IN-DOLPHIN' 'IDEA | Vodafone IN' 'IND-JIO'\n",
            " 'AIRTEL | PLATINUM' 'Airtel | PLATINUM' 'CELLONE-South' 'Cellone'\n",
            " 'Emergency calls only' 'Ind-Jio' 'airtel | Airtel' 'IDEA | Idea'\n",
            " 'JIO4G | Jio 4G' 'Vodafone-Be Safe | VIL' 'JIO4G' 'Airtel Stay Home']\n",
            "device_name   ['OPPO CPH1931' 'D8043bd139f034a8 1cb6aef93a8f1e32' 'YU5530'\n",
            " '638b5f4f86dfed5d 943a681d9bc971d' 'Samsung SM-J810G' 'Realme RMX2027'\n",
            " 'OPPO CPH1911' 'Vivo 1919' 'Xiaomi Redmi Note 6 Pro' 'Xiaomi Redmi Y2'\n",
            " 'Samsung SM-J600G' 'Samsung SM-G610F' 'Xiaomi Redmi 6' nan 'Vivo 1603'\n",
            " 'Vivo V2025' 'Vivo 1610' 'Samsung SM-J701F' 'Xiaomi Redmi Note 4'\n",
            " 'Samsung SM-G950W' 'Xiaomi Redmi 8' 'OPPO CPH1909' 'Samsung SM-A505F'\n",
            " 'Vivo 1803' 'OPPO CPH1809' 'Xiaomi Redmi Y1' 'OPPO CPH1923'\n",
            " 'OPPO CPH1609' 'OnePlus GM1911' 'Vivo 1904' 'Vivo 1716' 'Vivo 1726'\n",
            " 'Samsung SM-A105F' 'Xiaomi Redmi Note 7 Pro' 'OPPO CPH2095'\n",
            " 'OnePlus HD1901' 'Vivo 1916' 'Xiaomi Redmi Note 7' 'Vivo 1713'\n",
            " 'Vivo 1907' 'Vivo 1920' 'OPPO CPH2061' 'OPPO CPH2083' 'OPPO RMX1801'\n",
            " 'Realme RMX2040' 'Vivo V2029' 'Xiaomi M2006C3LII' 'Vivo 1723'\n",
            " 'Samsung SM-A260G' 'Vivo 1804' 'Vivo 1906' 'HMD Global Nokia 6.1 Plus'\n",
            " '277b937fcb7fac61 7e4d22a0ca9bf499' 'Vivo 1935' 'Vivo 1818'\n",
            " 'Samsung SM-M305F' 'Samsung SM-A315F' 'Realme RMX1992'\n",
            " 'Xiaomi Redmi Note 8 Pro' 'Samsung SM-M315F' 'Realme RMX1911'\n",
            " 'Xiaomi Redmi Note 3' 'Sony G8142' 'Vivo 1820' 'Xiaomi Redmi 6A'\n",
            " 'OPPO CPH1989' 'Vivo 1802' 'Xiaomi Redmi 4' 'Samsung SM-M215F'\n",
            " 'Samsung SM-M015G' 'Xiaomi Redmi 7A' 'Xiaomi Redmi Note 8'\n",
            " 'Xiaomi Redmi Note 5 Pro' 'Realme RMX1941' 'Vivo 1814' 'Samsung SM-G615F'\n",
            " 'OPPO CPH1803' 'Fa3f8753e80487a7 a7843bd501ac9c13' 'Vivo 1807'\n",
            " 'Realme RMX1921' 'OPPO CPH1969' 'Samsung SM-G935F' 'Vivo 1915'\n",
            " 'Xiaomi Redmi Note 5' '57afca33eb218a14 8bec5ad6eb9bca46'\n",
            " 'OnePlus GM1901' 'C92036d9c9a8a94b a17aca62e44b4aef' 'OPPO CPH1701'\n",
            " 'Samsung SM-J250F' 'Vivo V2027' 'Realme RMX2151' 'Samsung SM-G965F'\n",
            " 'Realme RMX1945' 'C421dd8954978fe3 1208381843801f57' 'Samsung SM-N950F'\n",
            " 'Samsung SM-J710FN' 'OnePlus KB2001' 'Vivo 1819' 'Vivo 1951'\n",
            " 'ONEPLUS A6010' 'Xiaomi M2003J15SC' 'Vivo 1902'\n",
            " '8462ca10dd70ede6 8cb49a96bb752eb4' 'Motorola Moto G (5S) Plus'\n",
            " 'Vivo 1901' 'OPPO CPH2119' 'Vivo 1606' 'Xiaomi Redmi Note 9 Pro Max'\n",
            " 'Samsung SM-A205F' 'Xiaomi POCO F1' 'Realme RMX2161' 'Samsung SM-M115F'\n",
            " 'OPPO CPH1717' 'Vivo 1816' 'OPPO CPH1819' 'Samsung SM-G600FY'\n",
            " 'OPPO CPH2127' 'Vivo 1938' 'Motorola moto e(6s)' 'OPPO CPH1901'\n",
            " 'Samsung SM-J720F' 'ONEPLUS A6000' 'HUAWEI AUM-AL20'\n",
            " 'Xiaomi Redmi K20 Pro' 'Itel A44' 'Xiaomi Redmi 8A' 'OPPO CPH2015'\n",
            " 'Vivo 1727' 'Vivo V2022' 'Xiaomi Redmi Note 7S' 'OPPO CPH1725'\n",
            " 'OPPO CPH1933' 'Xiaomi Mi A2' 'Realme RMX1971' 'Realme RMX1851'\n",
            " 'Xiaomi Redmi Y3' 'Vivo 1851' 'Realme RMX1825' 'PANASONIC ELUGA_I7_EE'\n",
            " 'Vivo Y51L' 'Samsung SM-N960F' 'OPPO CPH1821' 'OPPO CPH1727' 'OPPO A1601'\n",
            " 'TECNO MOBILE LIMITED TECNO KE5' 'Samsung SM-A515F' 'Realme RMX1901'\n",
            " 'Dc4ea5437c79c1fa 27be5a2e96220920' 'Vivo 1811'\n",
            " '20a040768df7c95c 8796dc833eceabfe' 'Realme RMX2030' 'OPPO CPH2179'\n",
            " 'Samsung SM-G611FF' 'Samsung SM-A507FN' 'OPPO CPH2001' 'Xiaomi Mi A3'\n",
            " 'OPPO A37f' 'Vivo 2018' 'Xiaomi M2004J19C' 'OPPO CPH1823' 'Vivo Y51'\n",
            " 'Vivo 1601' 'Vivo 1921' 'Samsung SM-A730F' 'Samsung SM-A305F'\n",
            " '7586c978d27b6865 ab97eda887f1f515' 'Xiaomi Redmi 6 Pro' 'Vivo 1714'\n",
            " 'HUAWEI LND-AL30' 'Vivo 1724' '6f5e07c7a768a521 e2384a33ee8553d9'\n",
            " 'Xiaomi Redmi K20' 'Vivo V2040' 'Realme RMX2001' 'Xiaomi Redmi Go'\n",
            " 'Realme RMX2185' 'OnePlus IN2011' '5b7d6d03c8e80313 b28e8768da85e227'\n",
            " 'Samsung SM-M307F' 'OPPO CPH1945' 'OPPO A37fw' 'HUAWEI COR-AL00'\n",
            " 'Vivo 1609' 'Da97a194afa65261 40f8abb160040e99' 'Samsung SM-A715F'\n",
            " 'ASUS_X00TD' 'HUAWEI RNE-L22' 'Xiaomi Redmi 5'\n",
            " 'F85ab225f9d7eba2 4ee5ecfd4195ec78' 'Samsung SM-N770F'\n",
            " 'Af2bca787634ded6 17ca98a1a8756bc4' 'OPPO CPH1937' 'Samsung SM-A750F'\n",
            " 'Xiaomi Redmi Note 9 Pro' 'Vivo 1909' 'Xiaomi Mi A1'\n",
            " 'Motorola one vision' 'Realme RMX1925' 'HMD Global Nokia 5.1 Plus'\n",
            " 'Samsung SM-A107F' 'TECNO MOBILE LIMITED TECNO BB4k' 'Samsung SM-A920F'\n",
            " '3943aded5fa2b03c 4107e8c995d7c11e' 'OnePlus AC2001' 'Xiaomi Redmi 3S'\n",
            " 'OnePlus HD1911' 'Lenovo K33a42' 'Xiaomi M2006C3MII' 'OPPO CPH1729'\n",
            " 'Xiaomi Redmi 7' 'Samsung SM-M105F' 'OPPO CPH1879' 'OPPO CPH1801'\n",
            " 'Micromax HS2' 'Vivo 1917' 'GIONEE X1S'\n",
            " 'C720acd57b731b1f ffb6807134487f9b' 'HUAWEI LLD-AL10' 'Samsung SM-J730GM'\n",
            " 'Samsung SM-A710F' 'LAVA International Era 2X' 'Samsung SM-A605G'\n",
            " 'Xiaomi Redmi 5A' 'Samsung SM-M205F' 'OPPO CPH1938' 'Samsung SM-A307FN'\n",
            " 'Samsung SM-A217F' 'Longcheer D' 'HUAWEI STK-L22' 'Samsung SM-F415F'\n",
            " 'Xiaomi POCO M2 Pro' 'Lenovo K8 Note' 'Motorola Moto G (4)'\n",
            " 'C75994910a7e4d0c 7a01e20fb217ee4e' 'Realme RMX1831' 'Xiaomi Redmi 4A'\n",
            " 'Samsung SM-J415F' 'Vivo V2031' 'Samsung SM-J710F' 'HUAWEI JSN-L42'\n",
            " 'Samsung SM-G570F' 'HUAWEI BKK-AL10' 'OPPO RMX1805' 'Samsung SM-J700F'\n",
            " 'Samsung SM-J200G' 'Samsung SM-C701F' 'Samsung SM-A707F'\n",
            " 'Samsung SM-A705GM' 'Motorola moto g(6) plus' 'Realme RMX2170'\n",
            " 'Xiaomi Redmi 8A Dual' 'Samsung SM-J210F'\n",
            " '42a5f38bbe4555ed 1adf2261823cb08d'\n",
            " 'INFINIX MOBILITY LIMITED Infinix X660' 'Motorola Moto G (5) Plus'\n",
            " 'OPPO CPH1723' 'Samsung SM-A207F' 'Vivo 1850' 'HMD Global Nokia C3'\n",
            " 'LAVA_R1' 'Google Pixel 2' 'Xiaomi POCO X2' 'LGE LM-X210'\n",
            " '9f1180721b431fdf 251e29199ce052db' 'TECNO MOBILE LIMITED TECNO KB2j'\n",
            " '654498e1c5338294 5c8f4964101861c6' 'OPPO CPH1859'\n",
            " 'A422d9ba84b219a df7be29e3506fd80' 'LGE LM-G850'\n",
            " 'INFINIX MOBILITY LIMITED Infinix X650C' 'HUAWEI STK-L21'\n",
            " 'Realme RMX2103' 'Realme RMX1931' 'Lenovo A7020a48' 'Vivo 1801'\n",
            " 'OPPO X9009' '9335eb567f84bc96 a7c6dd6eaebf8604' 'OPPO CPH1877'\n",
            " 'Samsung SM-J120G' 'Vivo V3' 'LAVA Z90' 'HMD Global Nokia 3.1 Plus'\n",
            " 'Samsung SM-J400F' 'Bdfd262665f559ae 4450fcb1a01af3ec'\n",
            " 'Motorola moto g(6)' 'Samsung SM-M107F' 'Samsung SM-G973F'\n",
            " 'TECNO MOBILE LIMITED TECNO IN2' 'Vivo 1815' 'ASUS_X01AD' 'Vivo 1718'\n",
            " 'Samsung SM-G960F' 'F0e86b5bd9728e1f 3a11767696746c9b'\n",
            " 'Xiaomi Redmi Y1 Lite' 'Samsung SM-J260G' 'OPPO CPH2035'\n",
            " 'Motorola Moto C Plus' 'OPPO CPH1613' 'Vivo 1908' 'HUAWEI CAM-UL00'\n",
            " 'Xiaomi M2006C3LI' '3d4f369a8021c3ad b4c945ed35fc3acd' 'Realme RMX2061'\n",
            " 'OPPO CPH1955' 'HUAWEI LLD-AL20' 'HUAWEI RIO-L01' 'Samsung SM-J260GU'\n",
            " 'Xiaomi M2006C3MI' '4d5fb548e8d4f925 b8d9440b1c65bc55' 'ASUS_X00PD'\n",
            " 'ONEPLUS A5010' 'OPPO RMX1811' 'Vivo 1806' 'Motorola Moto E (4) Plus'\n",
            " 'HUAWEI BLN-L22' 'HMD Global TA-1053' 'Motorola XT1706'\n",
            " 'Samsung SM-J610F' 'Realme RMX1827' 'OnePlus IN2021' 'Vivo 1933'\n",
            " 'HUAWEI BKL-L09' 'Realme RMX2189' 'TECNO MOBILE LIMITED TECNO ID3k'\n",
            " 'PANASONIC ELUGA Ray 500' 'TECNO IN5' '1bf37ffc3cfafc00 d877a7b01f6f69da'\n",
            " 'OPPO CPH1853' 'Motorola one fusion+' '6d9fd21b6b901f5a 77b4e1f04cdff7c0'\n",
            " '988f8cfa2dc36105 cff5f4d852aa7075' 'Xiaomi M2007J3SP'\n",
            " 'A0525793b8ede856 649e96b8d0ac1244' 'Samsung SM-A605F'\n",
            " '814e6fe0d111869e 1730e7cdbb4e74fc' 'HMD Global Nokia 2'\n",
            " 'LGE LM-Q710.FGN' 'Xiaomi M2004J19PI' 'TECNO MOBILE LIMITED TECNO KC1'\n",
            " 'Motorola Moto G (5S)' 'HMD Global Nokia 3.1' 'Vivo 1812'\n",
            " '767400b47b4e263a 677d624e7719ece0' 'Samsung SM-G985F'\n",
            " '65387cd017082dbf 789c047a3bdd20fb' 'Samsung SM-M405F' 'Vivo 2004'\n",
            " 'HUAWEI HRY-AL00' 'TECNO MOBILE LIMITED TECNO KB2' 'Lenovo K8 Plus'\n",
            " 'ASUS_X00RD' 'HUAWEI FRD-L02' '33e0d3488e3b1e24 6ac06f9504b9a836'\n",
            " 'Motorola moto e5' 'C3cb6d673b04abe8 520c1e859ae64ef2' 'OPPO CPH2109'\n",
            " 'Sony G3116' 'Xiaomi Mi 10' 'Dfb818ff5b85d3df 47caa4baeb801edb'\n",
            " 'Itel A41 Plus' '1b2739d7d9fcf3d5 f17f4bfb03b567a5'\n",
            " 'INFINIX MOBILITY LIMITED Infinix X655D' 'Spice F302'\n",
            " 'B88d7720189bc773 ee3a4f4e03dc49c7' 'Samsung SM-A910F'\n",
            " '55cf9e07ccf624a7 44a24312b2a19f13' 'Samsung SM-A800I'\n",
            " 'Motorola one power' 'E184a0c457c53e60 4c8ae00f86e1137a' 'Letv Le X509'\n",
            " 'TECNO MOBILE LIMITED TECNO KD7h' 'HUAWEI HRY-AL00Ta' 'OPPO CPH1881'\n",
            " 'Motorola moto g(9) power' 'Samsung SM-G955F' 'HMD Global Nokia 2.2'\n",
            " 'Samsung SM-G950F' 'INFINIX MOBILITY LIMITED Infinix X5515I'\n",
            " 'Samsung SM-M013F' 'ONEPLUS A5000' 'Xiaomi M2007J20CI' 'Samsung SM-A600G'\n",
            " 'Motorola one action' 'Samsung SM-M515F' 'HMD Global Nokia 8.1'\n",
            " 'Samsung SM-A510F' 'LGE LG-K220' 'HMD Global Nokia 6.1' 'LGE LG-M700'\n",
            " 'A473665a7ed6708c 4f5fe9301e18bace' 'OPPO CPH2185' 'YuLong Coolpad 3600I'\n",
            " 'LYF LS-4505' 'Mobiistar X1 Notch' 'HUAWEI BND-AL10' 'LAVA Z60s'\n",
            " 'Motorola Moto Z2 Play' 'Xiaomi M2007J17I' 'Motorola MotoG3'\n",
            " 'TECNO MOBILE LIMITED TECNO KE6' 'TECNO MOBILE LIMITED TECNO ID5b'\n",
            " 'Vivo V2030' 'Samsung SM-G611F' 'Samsung SM-G975F'\n",
            " '554d600d2e7adce1 17d36a6e619e5419' 'Samsung SM-G885F' 'Samsung SM-M317F'\n",
            " 'Samsung SM-A720F' 'Samsung SM-N975F' 'HUAWEI ALE-L21'\n",
            " '8474ca09d0279a27 a9ce4a0ac9c15993' 'D209ce9d83866606 5463028d84c89a94'\n",
            " 'Lenovo TB-7504X' 'OPPO CPH1917' 'HTC Desire 828 dual sim'\n",
            " 'Samsung SM-G532G' 'GIONEE F103 Pro' 'Realme RMX2193' 'Itel L5503'\n",
            " 'Vivo V2052' 'Samsung SM-T385' 'Motorola moto x4'\n",
            " '25db8e68db99e2bd 39d445afb931edbd' 'HUAWEI DUK-L09'\n",
            " 'Fcd373ccc1c85adf 49d0b91ce9f777db' 'Samsung SM-M017F'\n",
            " 'INFINIX MOBILITY LIMITED Infinix X626B' 'Motorola moto g(8) power lite'\n",
            " 'Realme RMX1833' 'COMIO C2' '3ae4f679b1fb393c 194aa765e017581e'\n",
            " 'Realme RMX2020' 'Ca262b7e288a691f a1b3eb3c54acf19b'\n",
            " '5937ad6d1a5efc3f 8f34829a2139a27b' '326d5814dc3b3049 c69800f2c30785b1'\n",
            " 'Lava Z10' 'Vivo 2006' 'Micromax E460' 'ITEL MOBILE LIMITED itel A20'\n",
            " 'Samsung SM-J500F' 'OPPO CPH1827' '23e5edae6005a25b 300edd680fd63df'\n",
            " 'LAVA Z61' '32f6826d8ddbbae3 731eb65cadc65457'\n",
            " '6125f12a7ec05a32 cb6a8a11bb4dbfe8' 'Vivo 1611' 'Motorola Moto E (4)'\n",
            " '1142741565b4195f 82707da6236d095b' '30a4e0fde87e8699 802ce02fc2f5a961'\n",
            " '9aae374edbfc668f 1a7d0caa8c3c322b' 'OPPO CPH1861'\n",
            " '4ddb94f5043e6a27 3032cc9fe6b48993' 'Samsung SM-J810GF' 'OPPO A33f'\n",
            " 'B02076b7b0f198bb e5de0fa48e0fd97f' 'TECNO MOBILE LIMITED TECNO LC8'\n",
            " 'Realme RMX2195' 'LAVA Z60' 'Samsung SM-G780F'\n",
            " '51a3e3d9d86cb765 78adb0e0e64b8615' 'Ec7f1d0a5e198859 d18ea15253751fa1'\n",
            " '6f66f46b229e50a6 869af22cc7dd63f4' 'Samsung SM-G615FU'\n",
            " '22a0255ecef8aca9 b30a8b2030533551' 'LGE LM-X440IM' 'Google Pixel 2 XL'\n",
            " 'GIONEE M7 Power' 'B9c9b36fcecf94d6 99ac59a7cdb75c4' 'GIONEE F8 Neo'\n",
            " 'Xiaomi M2010J19SI' 'HUAWEI PRA-AL00X' 'Samsung SM-C900F'\n",
            " 'HMD Global Nokia 2.1' '4d5b376d5ca179e0 280a25713448c7fa'\n",
            " 'Lenovo PB-6505M' '13747f9ed339f384 5f9a74cd5a61ed6' 'ONEPLUS A3003'\n",
            " 'Vivo Y21L' 'HMD Global TA-1032' '6761869b872b5432 fb2aec1443e805e8'\n",
            " 'OPPO CPH1893' 'Samsung SM-T295' 'Vivo Y31L' 'SONY G2299' 'LAVA iris50'\n",
            " 'Coolpad CP8298_I00' '248787dbdec0020f 59a44e53174886ab'\n",
            " 'Lenovo TB-7305X' 'Realme RMX2002' 'Motorola moto e5 plus'\n",
            " 'LG Electronics LG-X230' 'TECNO MOBILE LIMITED TECNO IN1'\n",
            " 'Mobiistar C1 Shine' 'INFINIX MOBILITY LIMITED Infinix X680D'\n",
            " '338b45b4f000f036 685928fbeec02664' 'Motorola XT1663' '10or G'\n",
            " 'OPPO CPH1907' 'Ea8af90f7320ee64 2ffdd438d9219ff6'\n",
            " '39e55de2d6b31e53 ef113b21be96eee7' 'Samsung SM-G550FY'\n",
            " '6e16463bbb4ee070 b21f282f6b62a36a' 'HMD Global Nokia 3.2'\n",
            " '15f147962a491dd 771398219cf0029d' '5dc5f94fd39cffcc 19335c031468d38e'\n",
            " 'Realme RMX2081' 'Df8d8c89da15e414 ccb60eb8fb78b046'\n",
            " 'E233653709bac443 3ff4c3ac24e516f7' 'B8e0b76dec3bd015 873683078f99d365'\n",
            " 'Realme RMX2085' 'C1a472ae78922e22 45280cd6a9c979f8' 'Xiaomi MI MAX 2'\n",
            " 'Itel L5002' '4f6186342a657860 176c60068aae197a'\n",
            " 'Fc1c813f5dcd69be 9cafffa20f8dd5dc' 'Motorola one macro'\n",
            " 'Samsung SM-G970F' 'OPPO CPH2137' '48f22ddf54d168f9 fd273f847b52b301'\n",
            " 'HUAWEI LDN-L21' '5b8283a02d22466d b911844963d5500d' 'ASUS_X01BDA'\n",
            " '773e48e1b59e3ebc 52c595a24467829e' 'Samsung SM-G900T'\n",
            " 'D70a63c06046872c 852ba46dc66ed82e' 'F774b01656e5b33b d1bb53cbbdec8eff'\n",
            " 'Samsung SM-A805F' 'HMD Global TA-1021'\n",
            " 'INFINIX MOBILITY LIMITED Infinix X604B' 'HMD Global Nokia 7.2'\n",
            " 'Samsung SM-G530H' 'Realme RMX2076' 'D396883e167f4cd5 f632253814352ea5'\n",
            " 'Vivo 1725' 'HUAWEI LLD-L21' 'C613d0a0f1a6afd7 d6a06ba14ab249e3'\n",
            " 'OPPO RMX1807' 'ASUS_I001DE' 'Lenovo A7010a48'\n",
            " '7411391f5d54def9 911d7d9d6027fd01' '9cac637979a376d2 2a050317f6eb9748'\n",
            " 'INFINIX MOBILITY LIMITED Infinix X608'\n",
            " 'Cc3146e35080dcd0 b666b7d11849d30a' 'Samsung SM-G930F' 'Vivo 1920_20'\n",
            " '5bcd23b92dcc3fc8 f11981384a0b5712' 'HMD Global Nokia 5.3'\n",
            " 'InFocus IF9001' 'Samsung SM-G928G'\n",
            " 'INFINIX MOBILITY LIMITED Infinix X655F' 'LGE LG-M250'\n",
            " '157bebcefaca6cc6 d20af0473b8aabd4' 'Samsung SM-N986B'\n",
            " 'Lava international era3x' 'Deb896378f29af42 92ef902e12e2fcd8'\n",
            " 'Lenovo L38043' 'LAVA Z50' 'INFINIX MOBILITY LIMITED Infinix X682C'\n",
            " 'InFocus IF9031' 'Samsung SM-J320F' 'HMD Global Nokia 7.1'\n",
            " 'HTC Desire 820' 'Samsung SM-F916B' '5a1bb0e0c85cf528 7934c27953c1edb2'\n",
            " 'Samsung SM-A700FD' 'Motorola moto g(9)' 'Lenovo A7000-a'\n",
            " 'Ee1b263e3c4f981c 290afb5e15adf53e' 'Samsung SM-T725'\n",
            " '814028231be5d6db 90425c939cf73f5f' 'TECNO MOBILE LIMITED TECNO ID5a'\n",
            " '1a666be9ee311357 79d0834e8688d663' 'Lenovo K50a40' 'Infinix HOT 4 Pro'\n",
            " '8bb47583db1f7b22 9a51ed7ff7e8ccf8' 'Motorola moto g(8) plus'\n",
            " '6d51b7a8702d75bd fea7971a152dbabd' 'F477bedf6a6c93f9 ed08e8c02d21e801'\n",
            " 'HUAWEI ANE-LX1' 'Samsung SM-N970F' 'Samsung SM-J510FN'\n",
            " 'Samsung SM-G988B' 'Cb30c97deb9dda3e 8df865173522f55c'\n",
            " 'TECNO MOBILE LIMITED TECNO IA5' 'Motorola Moto C' 'Samsung SM-G770F'\n",
            " 'LGE LM-G710' 'Samsung SM-G998B' 'TOPWISE Comio X1'\n",
            " '2e2cd96ffc164e1 57867a934720cc19' 'Samsung SM-A705FN' 'ASUS_Z01RD'\n",
            " '2cb4438e0c8527e2 7c631aff6277f838' 'A7b8929ef1600e5f 4d58335541ab45b'\n",
            " 'Ac9300c5e8e54b90 3876675874107c4a' '567796d9d75be62d afeb4783a3cbe84d'\n",
            " '4221823f40c74da 610c7957bb30d240' '11c5f7f73c17f9b7 cd7616f4120e5c03'\n",
            " 'Micromax Q4601' 'ONEPLUS A6003' 'Vivo 1805'\n",
            " 'E98375b56777753f 54742e5fafc7497b'\n",
            " 'INFINIX MOBILITY LIMITED Infinix X604'\n",
            " 'INFINIX MOBILITY LIMITED Infinix X680'\n",
            " '2a8f751ef7eddd46 3a3d8bb7392ccb54' 'HUAWEI DUB-LX1' 'SAMSUNG-SM-G925A'\n",
            " 'Xiaomi POCOPHONE F1' 'Samsung SM-G925I' 'Samsung SM-M025F'\n",
            " '5e0ef7616fb6755e 26e5599060649e3c' 'GIONEE A1 Plus'\n",
            " '39dbec9fadd54858 7e06efba44bbd082' 'D1a293d6608f87b2 6eff4c48f94ec268'\n",
            " 'TECNO MOBILE LIMITED TECNO IN1 Pro' 'BlackBerry BBG100-1'\n",
            " 'PANASONIC Eluga_Ray_700' 'Google Pixel 4a'\n",
            " '9a155fd1bca89a4f c00ee9e708beb66b' 'D454a6e60acb6653 4d20c1f985bfa6e7'\n",
            " 'A380327a910d0523 e5568cc398781217' 'Xiaomi M2007J3SI'\n",
            " 'Motorola moto g 5G' 'Caaffb9a00a1f726 f86449e16cd00d74'\n",
            " '2e955c9e228c0888 90a302727e27e652' 'HUAWEI HRY-LX1T' 'GIONEE P7 Max'\n",
            " 'Cc90351dfbd10ae1 a3f2c18ce8bfe619' 'OPPO F1f'\n",
            " 'TECNO MOBILE LIMITED TECNO LD7j' 'Ae5e25ed4da1fec2 ae3e7da8d5d1d58'\n",
            " '1d4e8813fc2891ea 30da71e457244730' '593d672675f0ddf4 6b6737e317f11266'\n",
            " 'A355abfcaa990ad8 e75d6b6dbe95de02' 'D8a7fe3edc0eac7e bd770c697f7e2b1c'\n",
            " 'OPPO CPH2201' '437a8169ae426dbc 8489d0dc518a339e']\n",
            "gms_version   ['21.02.14 (120406-352619232)' '20.50.16 (120406-351607135)'\n",
            " '20.36.15 (120400-333172415)' '20.45.16 (040408-344294571)'\n",
            " '20.36.15 (100300-333172415)' '20.45.16 (120300-344294571)'\n",
            " '20.50.16 (120408-351607135)' '20.39.15 (100400-335085812)'\n",
            " '20.47.14 (100306-349456378)' '20.36.15 (120306-333172415)'\n",
            " '20.50.16 (040308-351607135)' '20.50.16 (100306-351607135)' nan\n",
            " '21.02.14 (040306-352619232)' '20.45.16 (150400-344294571)'\n",
            " '20.36.15 (100306-333172415)' '20.39.15 (040408-335085812)'\n",
            " '20.45.16 (040306-344294571)' '20.39.15 (100408-335085812)'\n",
            " '20.45.16 (100406-344294571)' '20.50.16 (040406-351607135)'\n",
            " '21.02.14 (120400-352619232)' '20.33.15 (040406-330018294)'\n",
            " '20.50.16 (100406-351607135)' '20.09.14 (040408-300565878)'\n",
            " '20.50.16 (120400-351607135)' '20.47.13 (040406-344095733)'\n",
            " '20.47.14 (120300-349456378)' '20.42.17 (100400-342117392)'\n",
            " '20.39.15 (120408-335085812)' '20.36.15 (100400-333172415)'\n",
            " '20.47.14 (100406-349456378)' '20.47.14 (100400-349456378)'\n",
            " '20.47.14 (120408-349456378)' '20.50.16 (150408-351607135)'\n",
            " '20.47.14 (040408-349456378)' '20.36.15 (100406-333172415)'\n",
            " '20.50.16 (100400-351607135)' '20.50.16 (120306-351607135)'\n",
            " '20.45.16 (100408-344294571)' '19.2.75 (110304-269183835)'\n",
            " '20.47.14 (120400-349456378)' '20.45.16 (120408-344294571)'\n",
            " '20.33.15 (100300-330018294)' '20.42.17 (120406-342117392)'\n",
            " '18.3.82 (040408-260264002)' '20.50.16 (100408-351607135)'\n",
            " '20.39.15 (040406-335085812)' '21.02.14 (100306-352619232)'\n",
            " '20.45.16 (100306-344294571)' '20.42.17 (120408-342117392)'\n",
            " '20.42.15 (040406-340492180)' '20.45.16 (040406-344294571)'\n",
            " '20.47.14 (100408-349456378)' '20.33.15 (040308-330018294)'\n",
            " '20.45.16 (120400-344294571)' '20.04.14 (120306-294335909)'\n",
            " '20.45.16 (100400-344294571)' '20.33.15 (100400-330018294)'\n",
            " '20.47.13 (100406-344095733)' '20.42.65 (040406-342934990)'\n",
            " '20.47.14 (040406-349456378)' '20.50.16 (040408-351607135)'\n",
            " '20.50.16 (040300-351607135)' '20.36.15 (040406-333172415)'\n",
            " '21.02.14 (100406-352619232)' '20.47.14 (100300-349456378)'\n",
            " '20.42.17 (100406-342117392)' '20.36.15 (120408-333172415)'\n",
            " '20.47.14 (040304-349456378)' '21.02.14 (120408-352619232)'\n",
            " '20.45.16 (120406-344294571)' '20.33.15 (040306-330018294)'\n",
            " '20.39.15 (120400-335085812)' '20.50.16 (150400-351607135)'\n",
            " '21.02.14 (100408-352619232)' '20.21.17 (120400-316502805)'\n",
            " '20.33.15 (120400-330018294)' '20.33.15 (120408-330018294)'\n",
            " '20.45.16 (040308-344294571)' '20.47.14 (040308-349456378)'\n",
            " '20.47.14 (150408-349456378)' '20.33.15 (040304-330018294)'\n",
            " '20.47.13 (120300-344095733)' '20.42.15 (100406-340492180)'\n",
            " '20.42.17 (040306-342117392)' '20.47.14 (120406-349456378)'\n",
            " '20.42.15 (100400-340492180)' '20.50.16 (040306-351607135)'\n",
            " '20.30.17 (040306-325238822)' '20.33.15 (120406-330018294)'\n",
            " '20.26.14 (040304-320008519)' '20.30.19 (100306-326531024)'\n",
            " '20.50.66 (100306-351698872)' '21.02.14 (100400-352619232)'\n",
            " '20.50.16 (120300-351607135)' '20.36.15 (120406-333172415)'\n",
            " '20.42.15 (120408-340492180)' '20.42.17 (100306-342117392)'\n",
            " '20.50.16 (020400-351607135)' '20.30.19 (040406-326531024)'\n",
            " '20.50.16 (020406-351607135)' '20.36.15 (110306-333172415)'\n",
            " '20.47.13 (100306-344095733)' '17.7.85 (100306-253824076)'\n",
            " '20.47.13 (120406-344095733)' '20.39.15 (040306-335085812)'\n",
            " '20.39.15 (020400-335085812)' '20.50.66 (100408-351698872)'\n",
            " '20.21.17 (040406-316502805)' '21.02.14 (150400-352619232)'\n",
            " '20.24.14 (040408-319035315)' '21.02.14 (110306-352619232)'\n",
            " '20.45.14 (100408-342736661)' '20.39.15 (120406-335085812)'\n",
            " '20.36.15 (100408-333172415)' '20.42.15 (040408-340492180)'\n",
            " '20.50.66 (120408-351698872)' '20.47.13 (120400-344095733)'\n",
            " '20.42.15 (020406-340492180)' '21.02.14 (150408-352619232)'\n",
            " '20.50.16 (100300-351607135)' '20.47.14 (040400-349456378)'\n",
            " '20.24.14 (040406-319035315)' '20.47.66 (120400-350218603)'\n",
            " '20.42.17 (020406-342117392)' '20.12.16 (020406-306753009)'\n",
            " '20.39.15 (100306-335085812)' '20.42.17 (040308-342117392)'\n",
            " '20.39.15 (040300-335085812)' '20.39.15 (120300-335085812)'\n",
            " '20.39.15 (100406-335085812)' '20.47.13 (040306-344095733)'\n",
            " '20.47.13 (120408-344095733)' '20.50.16 (110306-351607135)'\n",
            " '20.42.17 (120400-342117392)' '20.36.15 (040308-333172415)'\n",
            " '20.39.15 (040308-335085812)' '20.50.16 (040304-351607135)'\n",
            " '20.47.14 (120306-349456378)' '20.33.15 (100406-330018294)'\n",
            " '20.42.17 (040406-342117392)' '20.42.17 (100408-342117392)'\n",
            " '21.02.14 (040406-352619232)' '20.47.13 (040408-344095733)'\n",
            " '20.33.14 (040308-327249014)' '20.47.14 (040306-349456378)'\n",
            " '20.50.14 (100408-349458771)' '20.42.17 (100300-342117392)'\n",
            " '20.36.15 (040306-333172415)' '20.47.14 (020304-349456378)'\n",
            " '20.50.16 (040400-351607135)' '20.36.65 (100400-335654789)'\n",
            " '20.15.16 (120408-309763488)' '20.45.16 (120306-344294571)'\n",
            " '20.04.14 (040408-294335909)' '20.33.15 (100306-330018294)'\n",
            " '19.6.29 (040408-278422107)' '20.45.16 (040304-344294571)'\n",
            " '20.36.15 (040408-333172415)' '20.47.13 (100408-344095733)'\n",
            " '20.39.15 (020408-335085812)' '20.45.16 (150408-344294571)'\n",
            " '20.36.15 (020304-333172415)' '20.50.66 (120400-351698872)'\n",
            " '20.36.15 (020306-333172415)' '20.39.65 (120300-339475106)'\n",
            " '20.50.16 (100308-351607135)' '20.47.14 (020406-349456378)'\n",
            " '20.47.13 (110304-344095733)' '20.50.16 (110304-351607135)'\n",
            " '20.45.14 (120400-342736661)' '20.33.15 (040400-330018294)'\n",
            " '20.04.14 (120408-294335909)' '20.50.16 (150406-351607135)'\n",
            " '20.45.16 (100300-344294571)' '20.30.19 (100400-326531024)'\n",
            " '20.39.65 (120406-339475106)' '20.47.14 (110304-349456378)'\n",
            " '20.45.16 (040400-344294571)' '20.30.19 (100406-326531024)'\n",
            " '20.47.13 (100400-344095733)' '20.33.15 (100408-330018294)'\n",
            " '20.42.17 (040408-342117392)' '20.45.16 (040300-344294571)'\n",
            " '20.42.15 (120400-340492180)' '21.02.14 (040300-352619232)'\n",
            " '20.47.14 (110306-349456378)' '11.9.75 (446-182402865)'\n",
            " '20.33.15 (040408-330018294)' '20.42.15 (120406-340492180)'\n",
            " '20.04.14 (100408-294335909)' '20.36.15 (040400-333172415)'\n",
            " '20.42.65 (120408-342934990)' '20.42.17 (040300-342117392)'\n",
            " '21.02.14 (040408-352619232)' '21.02.14 (120300-352619232)'\n",
            " '20.06.16 (040406-296104215)' '20.15.16 (120400-309763488)'\n",
            " '20.36.15 (040304-333172415)' '20.30.19 (020304-326531024)'\n",
            " '20.47.13 (040304-344095733)' '20.26.14 (040406-320008519)'\n",
            " '20.45.16 (020304-344294571)' '20.42.17 (040400-342117392)'\n",
            " '20.42.17 (020304-342117392)' '20.24.14 (100306-319035315)'\n",
            " '21.02.14 (040308-352619232)' '20.45.14 (040406-342736661)'\n",
            " '20.36.15 (040700-333172415)' '20.50.66 (100400-351698872)'\n",
            " '20.33.15 (020304-330018294)' '20.50.66 (150400-351698872)'\n",
            " '20.50.16 (020304-351607135)' '20.33.65 (120400-331823981)'\n",
            " '21.02.14 (040400-352619232)' '20.39.65 (040406-339475106)'\n",
            " '20.42.14 (040406-338133832)' '20.47.66 (100408-350218603)'\n",
            " '20.47.66 (100400-350218603)' '20.42.15 (040306-340492180)'\n",
            " '20.39.65 (120408-339475106)' '19.8.31 (100408-284611645)'\n",
            " '20.50.66 (040406-351698872)' '20.42.15 (100306-340492180)'\n",
            " '20.36.15 (020406-333172415)' '20.39.14 (040406-334855380)'\n",
            " '20.33.65 (040406-331823981)' '20.47.13 (020400-344095733)'\n",
            " '20.47.13 (020406-344095733)' '20.42.17 (110306-342117392)'\n",
            " '19.4.20 (040406-271418971)' '20.36.65 (100408-335654789)'\n",
            " '20.36.65 (100306-335654789)' '20.04.14 (100400-294335909)'\n",
            " '20.33.15 (020408-330018294)' '20.26.14 (040300-320008519)'\n",
            " '14.5.74 (110304-219897028)' '20.47.13 (020304-344095733)'\n",
            " '20.47.13 (040308-344095733)' '20.47.13 (150408-344095733)'\n",
            " '20.06.16 (100408-296104215)' '20.50.66 (100406-351698872)'\n",
            " '20.45.16 (110306-344294571)' '20.42.17 (120300-342117392)'\n",
            " '20.45.16 (020406-344294571)' '20.47.14 (040300-349456378)'\n",
            " '20.47.14 (150400-349456378)' '20.04.14 (120300-294335909)'\n",
            " '20.42.15 (100408-340492180)' '20.15.16 (100408-309763488)'\n",
            " '20.33.15 (020406-330018294)' '20.36.15 (110304-333172415)'\n",
            " '20.26.14 (120400-320008519)' '20.47.13 (040300-344095733)'\n",
            " '20.45.16 (020408-344294571)' '20.30.19 (100408-326531024)'\n",
            " '20.26.14 (040306-320008519)' '17.7.85 (020406-253824076)'\n",
            " '20.42.15 (100300-340492180)' '21.02.14 (150406-352619232)'\n",
            " '20.1.04 (040406-288960190)' '20.39.15 (100300-335085812)'\n",
            " '20.33.15 (110304-330018294)' '20.47.14 (110300-349456378)'\n",
            " '20.50.66 (040308-351698872)' '20.47.13 (150400-344095733)'\n",
            " '20.15.16 (100306-309763488)' '20.21.17 (120408-316502805)'\n",
            " '20.39.15 (040304-335085812)' '20.47.13 (120306-344095733)'\n",
            " '20.12.16 (100400-306753009)' '20.50.16 (020306-351607135)'\n",
            " '20.36.65 (110306-335654789)' '20.30.19 (120406-326531024)'\n",
            " '20.36.15 (120300-333172415)' '20.42.14 (100400-338133832)'\n",
            " '20.50.66 (120406-351698872)' '20.33.14 (040406-327249014)'\n",
            " '20.50.14 (120408-349458771)' '20.47.13 (040400-344095733)'\n",
            " '20.33.65 (040306-331823981)' '20.39.15 (020406-335085812)'\n",
            " '20.15.16 (120300-309763488)' '20.39.65 (040304-339475106)'\n",
            " '20.09.14 (100400-300565878)' '20.39.15 (110304-335085812)'\n",
            " '19.6.29 (100408-278422107)' '20.50.66 (040408-351698872)'\n",
            " '20.42.14 (100408-338133832)' '20.39.15 (020304-335085812)'\n",
            " '20.12.16 (040306-306753009)' '20.39.65 (120400-339475106)'\n",
            " '20.33.15 (120300-330018294)' '20.36.14 (040408-331796208)'\n",
            " '20.36.15 (040300-333172415)' '20.45.14 (120408-342736661)'\n",
            " '17.4.55 (040400-248795830)' '20.1.04 (100408-288960190)'\n",
            " '20.47.14 (150406-349456378)' '19.8.31 (100406-284611645)'\n",
            " '20.50.66 (040300-351698872)' '21.02.14 (100300-352619232)'\n",
            " '20.42.17 (040304-342117392)' '20.06.16 (040306-296104215)'\n",
            " '20.04.14 (100406-294335909)' '20.30.19 (040304-326531024)'\n",
            " '20.36.65 (040406-335654789)' '20.33.15 (150400-330018294)'\n",
            " '20.50.66 (040306-351698872)' '20.39.65 (150400-339475106)'\n",
            " '20.15.16 (120306-309763488)' '20.12.16 (100406-306753009)'\n",
            " '20.42.15 (110306-340492180)' '20.24.14 (120400-319035315)'\n",
            " '20.50.14 (120400-349458771)' '21.02.14 (120306-352619232)'\n",
            " '20.50.16 (110300-351607135)' '20.42.15 (020306-340492180)'\n",
            " '20.15.16 (020306-309763488)' '20.15.16 (040406-309763488)'\n",
            " '20.47.66 (040406-350218603)' '20.30.19 (040306-326531024)'\n",
            " '20.18.17 (040408-311416286)' '20.42.65 (120400-342934990)'\n",
            " '20.33.14 (100306-327249014)' '20.21.17 (100408-316502805)'\n",
            " '20.18.17 (040406-311416286)' '20.24.14 (100408-319035315)'\n",
            " '20.39.65 (110300-339475106)' '20.04.14 (120400-294335909)'\n",
            " '20.39.15 (020306-335085812)' '20.24.13 (040406-316577029)'\n",
            " '17.4.55 (040408-248795830)' '20.42.17 (110304-342117392)'\n",
            " '20.18.17 (040306-311416286)' '20.06.16 (100400-296104215)'\n",
            " '20.42.65 (100408-342934990)' '20.42.17 (120306-342117392)'\n",
            " '20.47.13 (100300-344095733)' '20.24.14 (120408-319035315)'\n",
            " '20.50.66 (120300-351698872)' '20.39.65 (100408-339475106)'\n",
            " '20.09.14 (100408-300565878)']\n",
            "manufacturer   ['OPPO' 'd8043bd139f034a8' 'YU' '638b5f4f86dfed5d' 'samsung' 'realme'\n",
            " 'vivo' 'Xiaomi' nan 'OnePlus' 'HMD Global' '277b937fcb7fac61' 'Sony'\n",
            " 'fa3f8753e80487a7' 'Realme' '57afca33eb218a14' 'c92036d9c9a8a94b'\n",
            " 'c421dd8954978fe3' '8462ca10dd70ede6' 'motorola' 'HUAWEI' 'itel'\n",
            " 'PANASONIC' 'TECNO MOBILE LIMITED' 'dc4ea5437c79c1fa' '20a040768df7c95c'\n",
            " '7586c978d27b6865' '6f5e07c7a768a521' '5b7d6d03c8e80313'\n",
            " 'da97a194afa65261' 'asus' 'f85ab225f9d7eba2' 'af2bca787634ded6'\n",
            " '3943aded5fa2b03c' 'LENOVO' 'Micromax' 'GIONEE' 'c720acd57b731b1f'\n",
            " 'LAVA International' 'Longcheer' 'lenovo' 'c75994910a7e4d0c'\n",
            " '42a5f38bbe4555ed' 'INFINIX MOBILITY LIMITED' 'Lava' 'Google' 'LGE'\n",
            " '9f1180721b431fdf' '654498e1c5338294' 'a422d9ba84b219a'\n",
            " '9335eb567f84bc96' 'LAVA' 'bdfd262665f559ae' 'f0e86b5bd9728e1f'\n",
            " '3d4f369a8021c3ad' '4d5fb548e8d4f925' 'TECNO' '1bf37ffc3cfafc00'\n",
            " '6d9fd21b6b901f5a' '988f8cfa2dc36105' 'a0525793b8ede856'\n",
            " '814e6fe0d111869e' '767400b47b4e263a' '65387cd017082dbf'\n",
            " '33e0d3488e3b1e24' 'c3cb6d673b04abe8' 'dfb818ff5b85d3df'\n",
            " '1b2739d7d9fcf3d5' 'Spice' 'b88d7720189bc773' '55cf9e07ccf624a7'\n",
            " 'e184a0c457c53e60' 'Letv' 'a473665a7ed6708c' 'YuLong' 'LYF' 'mobiistar'\n",
            " '554d600d2e7adce1' '8474ca09d0279a27' 'd209ce9d83866606' 'HTC'\n",
            " '25db8e68db99e2bd' 'fcd373ccc1c85adf' 'COMIO' '3ae4f679b1fb393c'\n",
            " 'ca262b7e288a691f' '5937ad6d1a5efc3f' '326d5814dc3b3049'\n",
            " 'ITEL MOBILE LIMITED' '23e5edae6005a25b' '32f6826d8ddbbae3'\n",
            " '6125f12a7ec05a32' '1142741565b4195f' '30a4e0fde87e8699'\n",
            " '9aae374edbfc668f' '4ddb94f5043e6a27' 'b02076b7b0f198bb'\n",
            " '51a3e3d9d86cb765' 'ec7f1d0a5e198859' '6f66f46b229e50a6'\n",
            " '22a0255ecef8aca9' 'b9c9b36fcecf94d6' '4d5b376d5ca179e0'\n",
            " '13747f9ed339f384' '6761869b872b5432' 'SONY' 'Coolpad' '248787dbdec0020f'\n",
            " 'LG Electronics' '338b45b4f000f036' '10or' 'ea8af90f7320ee64'\n",
            " '39e55de2d6b31e53' '6e16463bbb4ee070' '15f147962a491dd'\n",
            " '5dc5f94fd39cffcc' 'df8d8c89da15e414' 'e233653709bac443'\n",
            " 'b8e0b76dec3bd015' 'c1a472ae78922e22' '4f6186342a657860'\n",
            " 'fc1c813f5dcd69be' '48f22ddf54d168f9' '5b8283a02d22466d'\n",
            " '773e48e1b59e3ebc' 'd70a63c06046872c' 'f774b01656e5b33b'\n",
            " 'd396883e167f4cd5' 'c613d0a0f1a6afd7' '7411391f5d54def9'\n",
            " '9cac637979a376d2' 'cc3146e35080dcd0' '5bcd23b92dcc3fc8' 'InFocus'\n",
            " '157bebcefaca6cc6' 'Lava international' 'deb896378f29af42' 'Lenovo'\n",
            " '5a1bb0e0c85cf528' 'ee1b263e3c4f981c' '814028231be5d6db'\n",
            " '1a666be9ee311357' 'Infinix' '8bb47583db1f7b22' '6d51b7a8702d75bd'\n",
            " 'f477bedf6a6c93f9' 'cb30c97deb9dda3e' 'TOPWISE' '2e2cd96ffc164e1'\n",
            " '2cb4438e0c8527e2' 'a7b8929ef1600e5f' 'ac9300c5e8e54b90'\n",
            " '567796d9d75be62d' '4221823f40c74da' '11c5f7f73c17f9b7'\n",
            " 'e98375b56777753f' '2a8f751ef7eddd46' '5e0ef7616fb6755e'\n",
            " '39dbec9fadd54858' 'd1a293d6608f87b2' 'BlackBerry' '9a155fd1bca89a4f'\n",
            " 'd454a6e60acb6653' 'a380327a910d0523' 'caaffb9a00a1f726'\n",
            " '2e955c9e228c0888' 'cc90351dfbd10ae1' 'ae5e25ed4da1fec2'\n",
            " '1d4e8813fc2891ea' '593d672675f0ddf4' 'a355abfcaa990ad8'\n",
            " 'd8a7fe3edc0eac7e' '437a8169ae426dbc']\n",
            "network_type   ['Unknown_0' '4G' 'Wifi' 'Unknown' nan '3G' '2G']\n",
            "screen_dpi   ['xhdpi' 'hdpi' 'xxhdpi' nan 'xxxhdpi' 'mdpi']\n"
          ]
        }
      ]
    },
    {
      "cell_type": "code",
      "source": [
        "# Dropping the columns with very high\n",
        "df.drop(['brand', 'carrier', 'device_name', 'gms_version', 'manufacturer', 'screen_dpi'], axis=1, inplace=True)"
      ],
      "metadata": {
        "id": "EL2g_O0zu0-Y"
      },
      "execution_count": null,
      "outputs": []
    },
    {
      "cell_type": "code",
      "source": [
        "df['label'].value_counts()"
      ],
      "metadata": {
        "colab": {
          "base_uri": "https://localhost:8080/"
        },
        "id": "9YDvY4obLTGR",
        "outputId": "d93f471e-16ca-4cab-e154-e611cfdbd2ab"
      },
      "execution_count": null,
      "outputs": [
        {
          "output_type": "execute_result",
          "data": {
            "text/plain": [
              "modeling    4661\n",
              "oot         1585\n",
              "Name: label, dtype: int64"
            ]
          },
          "metadata": {},
          "execution_count": 7
        }
      ]
    },
    {
      "cell_type": "code",
      "source": [
        "df['default'].value_counts()"
      ],
      "metadata": {
        "id": "E1qeINNzNEze",
        "outputId": "f7a7e471-7d31-43a0-df97-5eba69ae5d0a",
        "colab": {
          "base_uri": "https://localhost:8080/"
        }
      },
      "execution_count": null,
      "outputs": [
        {
          "output_type": "execute_result",
          "data": {
            "text/plain": [
              "0.0    3612\n",
              "1.0    1049\n",
              "Name: default, dtype: int64"
            ]
          },
          "metadata": {},
          "execution_count": 8
        }
      ]
    },
    {
      "cell_type": "code",
      "source": [
        "df.shape"
      ],
      "metadata": {
        "colab": {
          "base_uri": "https://localhost:8080/"
        },
        "id": "P62C7IVcv1YN",
        "outputId": "4c54ca86-9c9a-47e9-fdc0-40a38a6c46b7"
      },
      "execution_count": null,
      "outputs": [
        {
          "output_type": "execute_result",
          "data": {
            "text/plain": [
              "(6246, 56)"
            ]
          },
          "metadata": {},
          "execution_count": 9
        }
      ]
    },
    {
      "cell_type": "code",
      "source": [
        "df = pd.get_dummies(df, columns=['network_type'])"
      ],
      "metadata": {
        "id": "husXp5c1vgIR"
      },
      "execution_count": null,
      "outputs": []
    },
    {
      "cell_type": "code",
      "source": [
        "df.head()"
      ],
      "metadata": {
        "colab": {
          "base_uri": "https://localhost:8080/",
          "height": 560
        },
        "id": "FL-avCEsK2VG",
        "outputId": "36bd5611-b4f9-487c-b9bf-daf9579e90e9"
      },
      "execution_count": null,
      "outputs": [
        {
          "output_type": "execute_result",
          "data": {
            "text/plain": [
              "                            decision_id     label  default   v1          v2  \\\n",
              "0  94dac214-e5d0-4758-b7ec-5a8e899b7f3e  modeling      0.0  0.0    41247.87   \n",
              "1  bcab40cd-4aaa-43d2-ae82-7d9ba2ded0a9  modeling      1.0  1.0    10278.99   \n",
              "2  c2f63ac4-e23c-40e7-8ef1-502c1d27df17  modeling      0.0  6.0  4603616.51   \n",
              "3  dc8c2882-5868-470c-8669-9a7e87782a40  modeling      0.0  0.0    13656.98   \n",
              "4  e40e990a-e89c-43c5-b933-f2b096aa1d35  modeling      1.0  7.0  3532898.80   \n",
              "\n",
              "         v3   v4     v5         v6   v7  ...  v49  v50  screen_height  \\\n",
              "0   4526.83  0.0   73.0   15231.14  0.0  ...  0.0  0.0         1456.0   \n",
              "1  35633.86  0.0   24.0   55549.52  0.0  ...  0.0  0.0         1456.0   \n",
              "2  46242.48  0.0  354.0  542944.00  0.0  ...  0.0  0.0         1423.0   \n",
              "3  15509.49  1.0   33.0        NaN  1.0  ...  0.0  0.0         1776.0   \n",
              "4  16363.64  0.0  363.0  542944.00  0.0  ...  0.0  0.0         1920.0   \n",
              "\n",
              "   screen_width  network_type_2G  network_type_3G  network_type_4G  \\\n",
              "0         720.0                0                0                0   \n",
              "1         720.0                0                0                0   \n",
              "2         720.0                0                0                1   \n",
              "3        1080.0                0                0                1   \n",
              "4        1080.0                0                0                0   \n",
              "\n",
              "   network_type_Unknown  network_type_Unknown_0  network_type_Wifi  \n",
              "0                     0                       1                  0  \n",
              "1                     0                       1                  0  \n",
              "2                     0                       0                  0  \n",
              "3                     0                       0                  0  \n",
              "4                     0                       0                  1  \n",
              "\n",
              "[5 rows x 61 columns]"
            ],
            "text/html": [
              "\n",
              "  <div id=\"df-5c2da0db-065f-4ffc-9500-f2cc55d206df\">\n",
              "    <div class=\"colab-df-container\">\n",
              "      <div>\n",
              "<style scoped>\n",
              "    .dataframe tbody tr th:only-of-type {\n",
              "        vertical-align: middle;\n",
              "    }\n",
              "\n",
              "    .dataframe tbody tr th {\n",
              "        vertical-align: top;\n",
              "    }\n",
              "\n",
              "    .dataframe thead th {\n",
              "        text-align: right;\n",
              "    }\n",
              "</style>\n",
              "<table border=\"1\" class=\"dataframe\">\n",
              "  <thead>\n",
              "    <tr style=\"text-align: right;\">\n",
              "      <th></th>\n",
              "      <th>decision_id</th>\n",
              "      <th>label</th>\n",
              "      <th>default</th>\n",
              "      <th>v1</th>\n",
              "      <th>v2</th>\n",
              "      <th>v3</th>\n",
              "      <th>v4</th>\n",
              "      <th>v5</th>\n",
              "      <th>v6</th>\n",
              "      <th>v7</th>\n",
              "      <th>...</th>\n",
              "      <th>v49</th>\n",
              "      <th>v50</th>\n",
              "      <th>screen_height</th>\n",
              "      <th>screen_width</th>\n",
              "      <th>network_type_2G</th>\n",
              "      <th>network_type_3G</th>\n",
              "      <th>network_type_4G</th>\n",
              "      <th>network_type_Unknown</th>\n",
              "      <th>network_type_Unknown_0</th>\n",
              "      <th>network_type_Wifi</th>\n",
              "    </tr>\n",
              "  </thead>\n",
              "  <tbody>\n",
              "    <tr>\n",
              "      <th>0</th>\n",
              "      <td>94dac214-e5d0-4758-b7ec-5a8e899b7f3e</td>\n",
              "      <td>modeling</td>\n",
              "      <td>0.0</td>\n",
              "      <td>0.0</td>\n",
              "      <td>41247.87</td>\n",
              "      <td>4526.83</td>\n",
              "      <td>0.0</td>\n",
              "      <td>73.0</td>\n",
              "      <td>15231.14</td>\n",
              "      <td>0.0</td>\n",
              "      <td>...</td>\n",
              "      <td>0.0</td>\n",
              "      <td>0.0</td>\n",
              "      <td>1456.0</td>\n",
              "      <td>720.0</td>\n",
              "      <td>0</td>\n",
              "      <td>0</td>\n",
              "      <td>0</td>\n",
              "      <td>0</td>\n",
              "      <td>1</td>\n",
              "      <td>0</td>\n",
              "    </tr>\n",
              "    <tr>\n",
              "      <th>1</th>\n",
              "      <td>bcab40cd-4aaa-43d2-ae82-7d9ba2ded0a9</td>\n",
              "      <td>modeling</td>\n",
              "      <td>1.0</td>\n",
              "      <td>1.0</td>\n",
              "      <td>10278.99</td>\n",
              "      <td>35633.86</td>\n",
              "      <td>0.0</td>\n",
              "      <td>24.0</td>\n",
              "      <td>55549.52</td>\n",
              "      <td>0.0</td>\n",
              "      <td>...</td>\n",
              "      <td>0.0</td>\n",
              "      <td>0.0</td>\n",
              "      <td>1456.0</td>\n",
              "      <td>720.0</td>\n",
              "      <td>0</td>\n",
              "      <td>0</td>\n",
              "      <td>0</td>\n",
              "      <td>0</td>\n",
              "      <td>1</td>\n",
              "      <td>0</td>\n",
              "    </tr>\n",
              "    <tr>\n",
              "      <th>2</th>\n",
              "      <td>c2f63ac4-e23c-40e7-8ef1-502c1d27df17</td>\n",
              "      <td>modeling</td>\n",
              "      <td>0.0</td>\n",
              "      <td>6.0</td>\n",
              "      <td>4603616.51</td>\n",
              "      <td>46242.48</td>\n",
              "      <td>0.0</td>\n",
              "      <td>354.0</td>\n",
              "      <td>542944.00</td>\n",
              "      <td>0.0</td>\n",
              "      <td>...</td>\n",
              "      <td>0.0</td>\n",
              "      <td>0.0</td>\n",
              "      <td>1423.0</td>\n",
              "      <td>720.0</td>\n",
              "      <td>0</td>\n",
              "      <td>0</td>\n",
              "      <td>1</td>\n",
              "      <td>0</td>\n",
              "      <td>0</td>\n",
              "      <td>0</td>\n",
              "    </tr>\n",
              "    <tr>\n",
              "      <th>3</th>\n",
              "      <td>dc8c2882-5868-470c-8669-9a7e87782a40</td>\n",
              "      <td>modeling</td>\n",
              "      <td>0.0</td>\n",
              "      <td>0.0</td>\n",
              "      <td>13656.98</td>\n",
              "      <td>15509.49</td>\n",
              "      <td>1.0</td>\n",
              "      <td>33.0</td>\n",
              "      <td>NaN</td>\n",
              "      <td>1.0</td>\n",
              "      <td>...</td>\n",
              "      <td>0.0</td>\n",
              "      <td>0.0</td>\n",
              "      <td>1776.0</td>\n",
              "      <td>1080.0</td>\n",
              "      <td>0</td>\n",
              "      <td>0</td>\n",
              "      <td>1</td>\n",
              "      <td>0</td>\n",
              "      <td>0</td>\n",
              "      <td>0</td>\n",
              "    </tr>\n",
              "    <tr>\n",
              "      <th>4</th>\n",
              "      <td>e40e990a-e89c-43c5-b933-f2b096aa1d35</td>\n",
              "      <td>modeling</td>\n",
              "      <td>1.0</td>\n",
              "      <td>7.0</td>\n",
              "      <td>3532898.80</td>\n",
              "      <td>16363.64</td>\n",
              "      <td>0.0</td>\n",
              "      <td>363.0</td>\n",
              "      <td>542944.00</td>\n",
              "      <td>0.0</td>\n",
              "      <td>...</td>\n",
              "      <td>0.0</td>\n",
              "      <td>0.0</td>\n",
              "      <td>1920.0</td>\n",
              "      <td>1080.0</td>\n",
              "      <td>0</td>\n",
              "      <td>0</td>\n",
              "      <td>0</td>\n",
              "      <td>0</td>\n",
              "      <td>0</td>\n",
              "      <td>1</td>\n",
              "    </tr>\n",
              "  </tbody>\n",
              "</table>\n",
              "<p>5 rows × 61 columns</p>\n",
              "</div>\n",
              "      <button class=\"colab-df-convert\" onclick=\"convertToInteractive('df-5c2da0db-065f-4ffc-9500-f2cc55d206df')\"\n",
              "              title=\"Convert this dataframe to an interactive table.\"\n",
              "              style=\"display:none;\">\n",
              "        \n",
              "  <svg xmlns=\"http://www.w3.org/2000/svg\" height=\"24px\"viewBox=\"0 0 24 24\"\n",
              "       width=\"24px\">\n",
              "    <path d=\"M0 0h24v24H0V0z\" fill=\"none\"/>\n",
              "    <path d=\"M18.56 5.44l.94 2.06.94-2.06 2.06-.94-2.06-.94-.94-2.06-.94 2.06-2.06.94zm-11 1L8.5 8.5l.94-2.06 2.06-.94-2.06-.94L8.5 2.5l-.94 2.06-2.06.94zm10 10l.94 2.06.94-2.06 2.06-.94-2.06-.94-.94-2.06-.94 2.06-2.06.94z\"/><path d=\"M17.41 7.96l-1.37-1.37c-.4-.4-.92-.59-1.43-.59-.52 0-1.04.2-1.43.59L10.3 9.45l-7.72 7.72c-.78.78-.78 2.05 0 2.83L4 21.41c.39.39.9.59 1.41.59.51 0 1.02-.2 1.41-.59l7.78-7.78 2.81-2.81c.8-.78.8-2.07 0-2.86zM5.41 20L4 18.59l7.72-7.72 1.47 1.35L5.41 20z\"/>\n",
              "  </svg>\n",
              "      </button>\n",
              "      \n",
              "  <style>\n",
              "    .colab-df-container {\n",
              "      display:flex;\n",
              "      flex-wrap:wrap;\n",
              "      gap: 12px;\n",
              "    }\n",
              "\n",
              "    .colab-df-convert {\n",
              "      background-color: #E8F0FE;\n",
              "      border: none;\n",
              "      border-radius: 50%;\n",
              "      cursor: pointer;\n",
              "      display: none;\n",
              "      fill: #1967D2;\n",
              "      height: 32px;\n",
              "      padding: 0 0 0 0;\n",
              "      width: 32px;\n",
              "    }\n",
              "\n",
              "    .colab-df-convert:hover {\n",
              "      background-color: #E2EBFA;\n",
              "      box-shadow: 0px 1px 2px rgba(60, 64, 67, 0.3), 0px 1px 3px 1px rgba(60, 64, 67, 0.15);\n",
              "      fill: #174EA6;\n",
              "    }\n",
              "\n",
              "    [theme=dark] .colab-df-convert {\n",
              "      background-color: #3B4455;\n",
              "      fill: #D2E3FC;\n",
              "    }\n",
              "\n",
              "    [theme=dark] .colab-df-convert:hover {\n",
              "      background-color: #434B5C;\n",
              "      box-shadow: 0px 1px 3px 1px rgba(0, 0, 0, 0.15);\n",
              "      filter: drop-shadow(0px 1px 2px rgba(0, 0, 0, 0.3));\n",
              "      fill: #FFFFFF;\n",
              "    }\n",
              "  </style>\n",
              "\n",
              "      <script>\n",
              "        const buttonEl =\n",
              "          document.querySelector('#df-5c2da0db-065f-4ffc-9500-f2cc55d206df button.colab-df-convert');\n",
              "        buttonEl.style.display =\n",
              "          google.colab.kernel.accessAllowed ? 'block' : 'none';\n",
              "\n",
              "        async function convertToInteractive(key) {\n",
              "          const element = document.querySelector('#df-5c2da0db-065f-4ffc-9500-f2cc55d206df');\n",
              "          const dataTable =\n",
              "            await google.colab.kernel.invokeFunction('convertToInteractive',\n",
              "                                                     [key], {});\n",
              "          if (!dataTable) return;\n",
              "\n",
              "          const docLinkHtml = 'Like what you see? Visit the ' +\n",
              "            '<a target=\"_blank\" href=https://colab.research.google.com/notebooks/data_table.ipynb>data table notebook</a>'\n",
              "            + ' to learn more about interactive tables.';\n",
              "          element.innerHTML = '';\n",
              "          dataTable['output_type'] = 'display_data';\n",
              "          await google.colab.output.renderOutput(dataTable, element);\n",
              "          const docLink = document.createElement('div');\n",
              "          docLink.innerHTML = docLinkHtml;\n",
              "          element.appendChild(docLink);\n",
              "        }\n",
              "      </script>\n",
              "    </div>\n",
              "  </div>\n",
              "  "
            ]
          },
          "metadata": {},
          "execution_count": 11
        }
      ]
    },
    {
      "cell_type": "code",
      "source": [
        "df.isna().sum()"
      ],
      "metadata": {
        "colab": {
          "base_uri": "https://localhost:8080/"
        },
        "id": "T-9-5lZw8wqr",
        "outputId": "89ec6bf4-4d28-445b-c864-8d441ffd83c1"
      },
      "execution_count": null,
      "outputs": [
        {
          "output_type": "execute_result",
          "data": {
            "text/plain": [
              "decision_id                  0\n",
              "label                        0\n",
              "default                   1585\n",
              "v1                        1200\n",
              "v2                         238\n",
              "v3                         247\n",
              "v4                         314\n",
              "v5                         238\n",
              "v6                         628\n",
              "v7                         314\n",
              "v8                         378\n",
              "v9                         314\n",
              "v10                        637\n",
              "v11                        238\n",
              "v12                        239\n",
              "v13                        314\n",
              "v14                        330\n",
              "v15                        238\n",
              "v16                        238\n",
              "v17                        328\n",
              "v18                        637\n",
              "v19                        637\n",
              "v20                        238\n",
              "v21                        637\n",
              "v22                        238\n",
              "v23                        238\n",
              "v24                        637\n",
              "v25                        637\n",
              "v26                        238\n",
              "v27                       1995\n",
              "v28                        238\n",
              "v29                        314\n",
              "v30                        238\n",
              "v31                        238\n",
              "v32                        338\n",
              "v33                        887\n",
              "v34                        637\n",
              "v35                        637\n",
              "v36                        238\n",
              "v37                        238\n",
              "v38                        972\n",
              "v39                        636\n",
              "v40                        238\n",
              "v41                        247\n",
              "v42                        637\n",
              "v43                        238\n",
              "v44                       1200\n",
              "v45                       1200\n",
              "v46                        956\n",
              "v47                        238\n",
              "v48                        861\n",
              "v49                        872\n",
              "v50                        637\n",
              "screen_height              240\n",
              "screen_width               240\n",
              "network_type_2G              0\n",
              "network_type_3G              0\n",
              "network_type_4G              0\n",
              "network_type_Unknown         0\n",
              "network_type_Unknown_0       0\n",
              "network_type_Wifi            0\n",
              "dtype: int64"
            ]
          },
          "metadata": {},
          "execution_count": 12
        }
      ]
    },
    {
      "cell_type": "code",
      "source": [
        "Imputer = KNNImputer (n_neighbors = 3, weights='uniform', metric='nan_euclidean')"
      ],
      "metadata": {
        "id": "QQiPPfEtMtYn"
      },
      "execution_count": null,
      "outputs": []
    },
    {
      "cell_type": "code",
      "source": [
        "numerics = ['float64', 'uint8']\n",
        "temp_df = df.select_dtypes(include=numerics)"
      ],
      "metadata": {
        "id": "YCWEUTyVx9fR"
      },
      "execution_count": null,
      "outputs": []
    },
    {
      "cell_type": "code",
      "source": [
        "temp_df.shape"
      ],
      "metadata": {
        "colab": {
          "base_uri": "https://localhost:8080/"
        },
        "id": "1GCDAifLv57F",
        "outputId": "c5f10ead-2869-4c17-99c0-6a64d68eb409"
      },
      "execution_count": null,
      "outputs": [
        {
          "output_type": "execute_result",
          "data": {
            "text/plain": [
              "(6246, 59)"
            ]
          },
          "metadata": {},
          "execution_count": 15
        }
      ]
    },
    {
      "cell_type": "code",
      "source": [
        "Imputer.fit(temp_df)\n",
        "temp_df[:] = Imputer.transform(temp_df)"
      ],
      "metadata": {
        "id": "yBjGlAxvvPn-"
      },
      "execution_count": null,
      "outputs": []
    },
    {
      "cell_type": "code",
      "source": [
        "temp_df.isna().sum()"
      ],
      "metadata": {
        "colab": {
          "base_uri": "https://localhost:8080/"
        },
        "id": "Zt904GAzyUg8",
        "outputId": "4fe59fd0-2152-4c83-ce8e-1a5b03e5aacd"
      },
      "execution_count": null,
      "outputs": [
        {
          "output_type": "execute_result",
          "data": {
            "text/plain": [
              "default                   0\n",
              "v1                        0\n",
              "v2                        0\n",
              "v3                        0\n",
              "v4                        0\n",
              "v5                        0\n",
              "v6                        0\n",
              "v7                        0\n",
              "v8                        0\n",
              "v9                        0\n",
              "v10                       0\n",
              "v11                       0\n",
              "v12                       0\n",
              "v13                       0\n",
              "v14                       0\n",
              "v15                       0\n",
              "v16                       0\n",
              "v17                       0\n",
              "v18                       0\n",
              "v19                       0\n",
              "v20                       0\n",
              "v21                       0\n",
              "v22                       0\n",
              "v23                       0\n",
              "v24                       0\n",
              "v25                       0\n",
              "v26                       0\n",
              "v27                       0\n",
              "v28                       0\n",
              "v29                       0\n",
              "v30                       0\n",
              "v31                       0\n",
              "v32                       0\n",
              "v33                       0\n",
              "v34                       0\n",
              "v35                       0\n",
              "v36                       0\n",
              "v37                       0\n",
              "v38                       0\n",
              "v39                       0\n",
              "v40                       0\n",
              "v41                       0\n",
              "v42                       0\n",
              "v43                       0\n",
              "v44                       0\n",
              "v45                       0\n",
              "v46                       0\n",
              "v47                       0\n",
              "v48                       0\n",
              "v49                       0\n",
              "v50                       0\n",
              "screen_height             0\n",
              "screen_width              0\n",
              "network_type_2G           0\n",
              "network_type_3G           0\n",
              "network_type_4G           0\n",
              "network_type_Unknown      0\n",
              "network_type_Unknown_0    0\n",
              "network_type_Wifi         0\n",
              "dtype: int64"
            ]
          },
          "metadata": {},
          "execution_count": 17
        }
      ]
    },
    {
      "cell_type": "code",
      "source": [
        "temp_df['decision_id'] = df['decision_id']\n",
        "temp_df['label'] = df['label']"
      ],
      "metadata": {
        "id": "PZFsWyyRzE9Y"
      },
      "execution_count": null,
      "outputs": []
    },
    {
      "cell_type": "code",
      "source": [
        "#filtering data set for train/test and validation\n",
        "\n",
        "train_df = temp_df.loc[temp_df.label == 'modeling']\n"
      ],
      "metadata": {
        "id": "K_2hq6Go1obr"
      },
      "execution_count": null,
      "outputs": []
    },
    {
      "cell_type": "code",
      "source": [
        "X = train_df.drop(['label', 'decision_id', 'default'],axis=1)\n",
        "y = train_df[['default']]\n",
        "X_train, X_test, y_train, y_test = train_test_split(X, y, test_size = 0.3,random_state=42)"
      ],
      "metadata": {
        "id": "EeIUkTqP13Ml"
      },
      "execution_count": null,
      "outputs": []
    },
    {
      "cell_type": "markdown",
      "source": [
        "## Random Forest Base Model"
      ],
      "metadata": {
        "id": "sbA1jwmE3KDt"
      }
    },
    {
      "cell_type": "code",
      "source": [
        "class_weight={0:1,1:4}\n",
        "clf_model = RandomForestClassifier(criterion=\"gini\", n_jobs = -1, verbose = 2, n_estimators = 100,\n",
        "                                   oob_score = True, random_state=43, min_samples_leaf=10, class_weight = class_weight)   \n",
        "clf_model.fit(X_train,y_train)"
      ],
      "metadata": {
        "colab": {
          "base_uri": "https://localhost:8080/",
          "height": 1000
        },
        "id": "cJ3POr2j2Tu8",
        "outputId": "62c74801-c4e3-4f10-b9df-4c4559de8d45"
      },
      "execution_count": null,
      "outputs": [
        {
          "output_type": "stream",
          "name": "stderr",
          "text": [
            "<ipython-input-21-88f13c3d89fa>:4: DataConversionWarning: A column-vector y was passed when a 1d array was expected. Please change the shape of y to (n_samples,), for example using ravel().\n",
            "  clf_model.fit(X_train,y_train)\n",
            "[Parallel(n_jobs=-1)]: Using backend ThreadingBackend with 2 concurrent workers.\n"
          ]
        },
        {
          "output_type": "stream",
          "name": "stdout",
          "text": [
            "building tree 1 of 100\n",
            "building tree 2 of 100\n",
            "building tree 3 of 100\n",
            "building tree 4 of 100\n",
            "building tree 5 of 100building tree 6 of 100\n",
            "\n",
            "building tree 7 of 100\n",
            "building tree 8 of 100\n",
            "building tree 9 of 100\n",
            "building tree 10 of 100\n",
            "building tree 11 of 100\n",
            "building tree 12 of 100\n",
            "building tree 13 of 100\n",
            "building tree 14 of 100\n",
            "building tree 15 of 100\n",
            "building tree 16 of 100\n",
            "building tree 17 of 100\n",
            "building tree 18 of 100\n",
            "building tree 19 of 100\n",
            "building tree 20 of 100\n",
            "building tree 21 of 100\n",
            "building tree 22 of 100\n",
            "building tree 23 of 100\n",
            "building tree 24 of 100\n",
            "building tree 25 of 100\n",
            "building tree 26 of 100\n",
            "building tree 27 of 100building tree 28 of 100\n",
            "\n",
            "building tree 29 of 100\n",
            "building tree 30 of 100\n",
            "building tree 31 of 100\n",
            "building tree 32 of 100\n",
            "building tree 33 of 100\n",
            "building tree 34 of 100\n",
            "building tree 35 of 100\n",
            "building tree 36 of 100building tree 37 of 100\n",
            "\n",
            "building tree 38 of 100\n",
            "building tree 39 of 100\n",
            "building tree 40 of 100\n",
            "building tree 41 of 100\n",
            "building tree 42 of 100\n",
            "building tree 43 of 100\n",
            "building tree 44 of 100\n",
            "building tree 45 of 100\n",
            "building tree 46 of 100\n",
            "building tree 47 of 100\n",
            "building tree 48 of 100\n",
            "building tree 49 of 100\n",
            "building tree 50 of 100\n",
            "building tree 51 of 100\n",
            "building tree 52 of 100\n",
            "building tree 53 of 100\n",
            "building tree 54 of 100\n"
          ]
        },
        {
          "output_type": "stream",
          "name": "stderr",
          "text": [
            "[Parallel(n_jobs=-1)]: Done  37 tasks      | elapsed:    0.3s\n"
          ]
        },
        {
          "output_type": "stream",
          "name": "stdout",
          "text": [
            "building tree 55 of 100\n",
            "building tree 56 of 100\n",
            "building tree 57 of 100\n",
            "building tree 58 of 100\n",
            "building tree 59 of 100\n",
            "building tree 60 of 100\n",
            "building tree 61 of 100\n",
            "building tree 62 of 100\n",
            "building tree 63 of 100\n",
            "building tree 64 of 100\n",
            "building tree 65 of 100\n",
            "building tree 66 of 100\n",
            "building tree 67 of 100\n",
            "building tree 68 of 100\n",
            "building tree 69 of 100\n",
            "building tree 70 of 100\n",
            "building tree 71 of 100\n",
            "building tree 72 of 100\n",
            "building tree 73 of 100\n",
            "building tree 74 of 100\n",
            "building tree 75 of 100\n",
            "building tree 76 of 100\n",
            "building tree 77 of 100\n",
            "building tree 78 of 100\n",
            "building tree 79 of 100\n",
            "building tree 80 of 100\n",
            "building tree 81 of 100\n",
            "building tree 82 of 100\n",
            "building tree 83 of 100\n",
            "building tree 84 of 100\n",
            "building tree 85 of 100\n",
            "building tree 86 of 100\n",
            "building tree 87 of 100\n",
            "building tree 88 of 100\n",
            "building tree 89 of 100\n",
            "building tree 90 of 100\n",
            "building tree 91 of 100\n",
            "building tree 92 of 100\n",
            "building tree 93 of 100\n",
            "building tree 94 of 100\n",
            "building tree 95 of 100\n",
            "building tree 96 of 100\n",
            "building tree 97 of 100\n",
            "building tree 98 of 100\n",
            "building tree 99 of 100\n",
            "building tree 100 of 100\n"
          ]
        },
        {
          "output_type": "stream",
          "name": "stderr",
          "text": [
            "[Parallel(n_jobs=-1)]: Done 100 out of 100 | elapsed:    0.8s finished\n"
          ]
        },
        {
          "output_type": "execute_result",
          "data": {
            "text/plain": [
              "RandomForestClassifier(class_weight={0: 1, 1: 4}, min_samples_leaf=10,\n",
              "                       n_jobs=-1, oob_score=True, random_state=43, verbose=2)"
            ],
            "text/html": [
              "<style>#sk-container-id-1 {color: black;background-color: white;}#sk-container-id-1 pre{padding: 0;}#sk-container-id-1 div.sk-toggleable {background-color: white;}#sk-container-id-1 label.sk-toggleable__label {cursor: pointer;display: block;width: 100%;margin-bottom: 0;padding: 0.3em;box-sizing: border-box;text-align: center;}#sk-container-id-1 label.sk-toggleable__label-arrow:before {content: \"▸\";float: left;margin-right: 0.25em;color: #696969;}#sk-container-id-1 label.sk-toggleable__label-arrow:hover:before {color: black;}#sk-container-id-1 div.sk-estimator:hover label.sk-toggleable__label-arrow:before {color: black;}#sk-container-id-1 div.sk-toggleable__content {max-height: 0;max-width: 0;overflow: hidden;text-align: left;background-color: #f0f8ff;}#sk-container-id-1 div.sk-toggleable__content pre {margin: 0.2em;color: black;border-radius: 0.25em;background-color: #f0f8ff;}#sk-container-id-1 input.sk-toggleable__control:checked~div.sk-toggleable__content {max-height: 200px;max-width: 100%;overflow: auto;}#sk-container-id-1 input.sk-toggleable__control:checked~label.sk-toggleable__label-arrow:before {content: \"▾\";}#sk-container-id-1 div.sk-estimator input.sk-toggleable__control:checked~label.sk-toggleable__label {background-color: #d4ebff;}#sk-container-id-1 div.sk-label input.sk-toggleable__control:checked~label.sk-toggleable__label {background-color: #d4ebff;}#sk-container-id-1 input.sk-hidden--visually {border: 0;clip: rect(1px 1px 1px 1px);clip: rect(1px, 1px, 1px, 1px);height: 1px;margin: -1px;overflow: hidden;padding: 0;position: absolute;width: 1px;}#sk-container-id-1 div.sk-estimator {font-family: monospace;background-color: #f0f8ff;border: 1px dotted black;border-radius: 0.25em;box-sizing: border-box;margin-bottom: 0.5em;}#sk-container-id-1 div.sk-estimator:hover {background-color: #d4ebff;}#sk-container-id-1 div.sk-parallel-item::after {content: \"\";width: 100%;border-bottom: 1px solid gray;flex-grow: 1;}#sk-container-id-1 div.sk-label:hover label.sk-toggleable__label {background-color: #d4ebff;}#sk-container-id-1 div.sk-serial::before {content: \"\";position: absolute;border-left: 1px solid gray;box-sizing: border-box;top: 0;bottom: 0;left: 50%;z-index: 0;}#sk-container-id-1 div.sk-serial {display: flex;flex-direction: column;align-items: center;background-color: white;padding-right: 0.2em;padding-left: 0.2em;position: relative;}#sk-container-id-1 div.sk-item {position: relative;z-index: 1;}#sk-container-id-1 div.sk-parallel {display: flex;align-items: stretch;justify-content: center;background-color: white;position: relative;}#sk-container-id-1 div.sk-item::before, #sk-container-id-1 div.sk-parallel-item::before {content: \"\";position: absolute;border-left: 1px solid gray;box-sizing: border-box;top: 0;bottom: 0;left: 50%;z-index: -1;}#sk-container-id-1 div.sk-parallel-item {display: flex;flex-direction: column;z-index: 1;position: relative;background-color: white;}#sk-container-id-1 div.sk-parallel-item:first-child::after {align-self: flex-end;width: 50%;}#sk-container-id-1 div.sk-parallel-item:last-child::after {align-self: flex-start;width: 50%;}#sk-container-id-1 div.sk-parallel-item:only-child::after {width: 0;}#sk-container-id-1 div.sk-dashed-wrapped {border: 1px dashed gray;margin: 0 0.4em 0.5em 0.4em;box-sizing: border-box;padding-bottom: 0.4em;background-color: white;}#sk-container-id-1 div.sk-label label {font-family: monospace;font-weight: bold;display: inline-block;line-height: 1.2em;}#sk-container-id-1 div.sk-label-container {text-align: center;}#sk-container-id-1 div.sk-container {/* jupyter's `normalize.less` sets `[hidden] { display: none; }` but bootstrap.min.css set `[hidden] { display: none !important; }` so we also need the `!important` here to be able to override the default hidden behavior on the sphinx rendered scikit-learn.org. See: https://github.com/scikit-learn/scikit-learn/issues/21755 */display: inline-block !important;position: relative;}#sk-container-id-1 div.sk-text-repr-fallback {display: none;}</style><div id=\"sk-container-id-1\" class=\"sk-top-container\"><div class=\"sk-text-repr-fallback\"><pre>RandomForestClassifier(class_weight={0: 1, 1: 4}, min_samples_leaf=10,\n",
              "                       n_jobs=-1, oob_score=True, random_state=43, verbose=2)</pre><b>In a Jupyter environment, please rerun this cell to show the HTML representation or trust the notebook. <br />On GitHub, the HTML representation is unable to render, please try loading this page with nbviewer.org.</b></div><div class=\"sk-container\" hidden><div class=\"sk-item\"><div class=\"sk-estimator sk-toggleable\"><input class=\"sk-toggleable__control sk-hidden--visually\" id=\"sk-estimator-id-1\" type=\"checkbox\" checked><label for=\"sk-estimator-id-1\" class=\"sk-toggleable__label sk-toggleable__label-arrow\">RandomForestClassifier</label><div class=\"sk-toggleable__content\"><pre>RandomForestClassifier(class_weight={0: 1, 1: 4}, min_samples_leaf=10,\n",
              "                       n_jobs=-1, oob_score=True, random_state=43, verbose=2)</pre></div></div></div></div></div>"
            ]
          },
          "metadata": {},
          "execution_count": 21
        }
      ]
    },
    {
      "cell_type": "code",
      "source": [
        "y_predict = clf_model.predict(X_test)"
      ],
      "metadata": {
        "colab": {
          "base_uri": "https://localhost:8080/"
        },
        "id": "R_FyviEM2Xxm",
        "outputId": "3ceeb275-d196-4bbd-d451-879c70816621"
      },
      "execution_count": null,
      "outputs": [
        {
          "output_type": "stream",
          "name": "stderr",
          "text": [
            "[Parallel(n_jobs=2)]: Using backend ThreadingBackend with 2 concurrent workers.\n",
            "[Parallel(n_jobs=2)]: Done  37 tasks      | elapsed:    0.0s\n",
            "[Parallel(n_jobs=2)]: Done 100 out of 100 | elapsed:    0.0s finished\n"
          ]
        }
      ]
    },
    {
      "cell_type": "code",
      "source": [
        "accuracy_score(y_test,y_predict)"
      ],
      "metadata": {
        "colab": {
          "base_uri": "https://localhost:8080/"
        },
        "id": "UlEWuELG2ojW",
        "outputId": "4f0e5995-26b3-4171-fc6b-608e7a898122"
      },
      "execution_count": null,
      "outputs": [
        {
          "output_type": "execute_result",
          "data": {
            "text/plain": [
              "0.7884203002144389"
            ]
          },
          "metadata": {},
          "execution_count": 23
        }
      ]
    },
    {
      "cell_type": "code",
      "source": [
        "confusion_matrix(y_test,y_predict, labels = [0,1])"
      ],
      "metadata": {
        "colab": {
          "base_uri": "https://localhost:8080/"
        },
        "id": "zOm9OX7G2rrz",
        "outputId": "7fac7410-90ee-4c94-df6f-da4ccb856294"
      },
      "execution_count": null,
      "outputs": [
        {
          "output_type": "execute_result",
          "data": {
            "text/plain": [
              "array([[965, 131],\n",
              "       [165, 138]])"
            ]
          },
          "metadata": {},
          "execution_count": 24
        }
      ]
    },
    {
      "cell_type": "code",
      "source": [
        "print (classification_report (y_test,y_predict))"
      ],
      "metadata": {
        "colab": {
          "base_uri": "https://localhost:8080/"
        },
        "id": "I6FXIP752t7H",
        "outputId": "ffb999dd-6414-48e4-8d31-c694cdf49933"
      },
      "execution_count": null,
      "outputs": [
        {
          "output_type": "stream",
          "name": "stdout",
          "text": [
            "              precision    recall  f1-score   support\n",
            "\n",
            "         0.0       0.85      0.88      0.87      1096\n",
            "         1.0       0.51      0.46      0.48       303\n",
            "\n",
            "    accuracy                           0.79      1399\n",
            "   macro avg       0.68      0.67      0.67      1399\n",
            "weighted avg       0.78      0.79      0.78      1399\n",
            "\n"
          ]
        }
      ]
    },
    {
      "cell_type": "code",
      "source": [
        "feat_importances = pd.Series(clf_model.feature_importances_, index=X_train.columns)\n",
        "feat_importances.nlargest(20).plot(kind='barh')"
      ],
      "metadata": {
        "colab": {
          "base_uri": "https://localhost:8080/",
          "height": 448
        },
        "id": "iELilk5z2wI0",
        "outputId": "93d0a258-59c4-4171-f864-d42ff20d79ad"
      },
      "execution_count": null,
      "outputs": [
        {
          "output_type": "execute_result",
          "data": {
            "text/plain": [
              "<Axes: >"
            ]
          },
          "metadata": {},
          "execution_count": 26
        },
        {
          "output_type": "display_data",
          "data": {
            "text/plain": [
              "<Figure size 640x480 with 1 Axes>"
            ],
            "image/png": "[encoded data removed]"
          },
          "metadata": {}
        }
      ]
    },
    {
      "cell_type": "code",
      "source": [
        "#Getting the predictions\n",
        "preds = clf_model.predict(temp_df.loc[temp_df.label == 'oot'].drop(['label', 'decision_id', 'default'],axis=1))"
      ],
      "metadata": {
        "colab": {
          "base_uri": "https://localhost:8080/"
        },
        "id": "srSqyNtdvjf8",
        "outputId": "98f2fe7e-b301-451f-d869-557013982f19"
      },
      "execution_count": null,
      "outputs": [
        {
          "output_type": "stream",
          "name": "stderr",
          "text": [
            "[Parallel(n_jobs=2)]: Using backend ThreadingBackend with 2 concurrent workers.\n",
            "[Parallel(n_jobs=2)]: Done  37 tasks      | elapsed:    0.0s\n",
            "[Parallel(n_jobs=2)]: Done 100 out of 100 | elapsed:    0.1s finished\n"
          ]
        }
      ]
    },
    {
      "cell_type": "code",
      "source": [
        "type(preds)"
      ],
      "metadata": {
        "colab": {
          "base_uri": "https://localhost:8080/"
        },
        "id": "tQ2XFJ1vwo-Y",
        "outputId": "3e4fbb1e-4336-4416-b5eb-3e32fec50c30"
      },
      "execution_count": null,
      "outputs": [
        {
          "output_type": "execute_result",
          "data": {
            "text/plain": [
              "numpy.ndarray"
            ]
          },
          "metadata": {},
          "execution_count": 29
        }
      ]
    },
    {
      "cell_type": "code",
      "source": [
        "output = pd.DataFrame(preds, columns = ['Prediction'])"
      ],
      "metadata": {
        "id": "u4prO1YXw42N"
      },
      "execution_count": null,
      "outputs": []
    },
    {
      "cell_type": "code",
      "source": [
        "output['decision_id'] = df.loc[temp_df.label == 'oot'][['decision_id']].values"
      ],
      "metadata": {
        "id": "AhLkV-W5xObD"
      },
      "execution_count": null,
      "outputs": []
    },
    {
      "cell_type": "code",
      "source": [
        "output.head()"
      ],
      "metadata": {
        "colab": {
          "base_uri": "https://localhost:8080/",
          "height": 206
        },
        "id": "pstmyu-Qxe5M",
        "outputId": "48075ea5-686d-41f0-e9c0-c37e1464c77e"
      },
      "execution_count": null,
      "outputs": [
        {
          "output_type": "execute_result",
          "data": {
            "text/plain": [
              "   Prediction                           decision_id\n",
              "0         0.0  7a74c817-f036-4214-ade0-e5bfa07fd0fc\n",
              "1         0.0  7ba155b6-ce2c-432e-a717-163acd6306da\n",
              "2         1.0  831a2f46-dbb4-47a9-9f3b-91ff7d0214d2\n",
              "3         0.0  d4ec4849-b80e-49e9-a8a5-0e17f7d96c02\n",
              "4         0.0  e67c5ff3-3751-40d4-b621-4987df98ce1b"
            ],
            "text/html": [
              "\n",
              "  <div id=\"df-55b91b38-020b-42df-97e2-80a11135cd52\">\n",
              "    <div class=\"colab-df-container\">\n",
              "      <div>\n",
              "<style scoped>\n",
              "    .dataframe tbody tr th:only-of-type {\n",
              "        vertical-align: middle;\n",
              "    }\n",
              "\n",
              "    .dataframe tbody tr th {\n",
              "        vertical-align: top;\n",
              "    }\n",
              "\n",
              "    .dataframe thead th {\n",
              "        text-align: right;\n",
              "    }\n",
              "</style>\n",
              "<table border=\"1\" class=\"dataframe\">\n",
              "  <thead>\n",
              "    <tr style=\"text-align: right;\">\n",
              "      <th></th>\n",
              "      <th>Prediction</th>\n",
              "      <th>decision_id</th>\n",
              "    </tr>\n",
              "  </thead>\n",
              "  <tbody>\n",
              "    <tr>\n",
              "      <th>0</th>\n",
              "      <td>0.0</td>\n",
              "      <td>7a74c817-f036-4214-ade0-e5bfa07fd0fc</td>\n",
              "    </tr>\n",
              "    <tr>\n",
              "      <th>1</th>\n",
              "      <td>0.0</td>\n",
              "      <td>7ba155b6-ce2c-432e-a717-163acd6306da</td>\n",
              "    </tr>\n",
              "    <tr>\n",
              "      <th>2</th>\n",
              "      <td>1.0</td>\n",
              "      <td>831a2f46-dbb4-47a9-9f3b-91ff7d0214d2</td>\n",
              "    </tr>\n",
              "    <tr>\n",
              "      <th>3</th>\n",
              "      <td>0.0</td>\n",
              "      <td>d4ec4849-b80e-49e9-a8a5-0e17f7d96c02</td>\n",
              "    </tr>\n",
              "    <tr>\n",
              "      <th>4</th>\n",
              "      <td>0.0</td>\n",
              "      <td>e67c5ff3-3751-40d4-b621-4987df98ce1b</td>\n",
              "    </tr>\n",
              "  </tbody>\n",
              "</table>\n",
              "</div>\n",
              "      <button class=\"colab-df-convert\" onclick=\"convertToInteractive('df-55b91b38-020b-42df-97e2-80a11135cd52')\"\n",
              "              title=\"Convert this dataframe to an interactive table.\"\n",
              "              style=\"display:none;\">\n",
              "        \n",
              "  <svg xmlns=\"http://www.w3.org/2000/svg\" height=\"24px\"viewBox=\"0 0 24 24\"\n",
              "       width=\"24px\">\n",
              "    <path d=\"M0 0h24v24H0V0z\" fill=\"none\"/>\n",
              "    <path d=\"M18.56 5.44l.94 2.06.94-2.06 2.06-.94-2.06-.94-.94-2.06-.94 2.06-2.06.94zm-11 1L8.5 8.5l.94-2.06 2.06-.94-2.06-.94L8.5 2.5l-.94 2.06-2.06.94zm10 10l.94 2.06.94-2.06 2.06-.94-2.06-.94-.94-2.06-.94 2.06-2.06.94z\"/><path d=\"M17.41 7.96l-1.37-1.37c-.4-.4-.92-.59-1.43-.59-.52 0-1.04.2-1.43.59L10.3 9.45l-7.72 7.72c-.78.78-.78 2.05 0 2.83L4 21.41c.39.39.9.59 1.41.59.51 0 1.02-.2 1.41-.59l7.78-7.78 2.81-2.81c.8-.78.8-2.07 0-2.86zM5.41 20L4 18.59l7.72-7.72 1.47 1.35L5.41 20z\"/>\n",
              "  </svg>\n",
              "      </button>\n",
              "      \n",
              "  <style>\n",
              "    .colab-df-container {\n",
              "      display:flex;\n",
              "      flex-wrap:wrap;\n",
              "      gap: 12px;\n",
              "    }\n",
              "\n",
              "    .colab-df-convert {\n",
              "      background-color: #E8F0FE;\n",
              "      border: none;\n",
              "      border-radius: 50%;\n",
              "      cursor: pointer;\n",
              "      display: none;\n",
              "      fill: #1967D2;\n",
              "      height: 32px;\n",
              "      padding: 0 0 0 0;\n",
              "      width: 32px;\n",
              "    }\n",
              "\n",
              "    .colab-df-convert:hover {\n",
              "      background-color: #E2EBFA;\n",
              "      box-shadow: 0px 1px 2px rgba(60, 64, 67, 0.3), 0px 1px 3px 1px rgba(60, 64, 67, 0.15);\n",
              "      fill: #174EA6;\n",
              "    }\n",
              "\n",
              "    [theme=dark] .colab-df-convert {\n",
              "      background-color: #3B4455;\n",
              "      fill: #D2E3FC;\n",
              "    }\n",
              "\n",
              "    [theme=dark] .colab-df-convert:hover {\n",
              "      background-color: #434B5C;\n",
              "      box-shadow: 0px 1px 3px 1px rgba(0, 0, 0, 0.15);\n",
              "      filter: drop-shadow(0px 1px 2px rgba(0, 0, 0, 0.3));\n",
              "      fill: #FFFFFF;\n",
              "    }\n",
              "  </style>\n",
              "\n",
              "      <script>\n",
              "        const buttonEl =\n",
              "          document.querySelector('#df-55b91b38-020b-42df-97e2-80a11135cd52 button.colab-df-convert');\n",
              "        buttonEl.style.display =\n",
              "          google.colab.kernel.accessAllowed ? 'block' : 'none';\n",
              "\n",
              "        async function convertToInteractive(key) {\n",
              "          const element = document.querySelector('#df-55b91b38-020b-42df-97e2-80a11135cd52');\n",
              "          const dataTable =\n",
              "            await google.colab.kernel.invokeFunction('convertToInteractive',\n",
              "                                                     [key], {});\n",
              "          if (!dataTable) return;\n",
              "\n",
              "          const docLinkHtml = 'Like what you see? Visit the ' +\n",
              "            '<a target=\"_blank\" href=https://colab.research.google.com/notebooks/data_table.ipynb>data table notebook</a>'\n",
              "            + ' to learn more about interactive tables.';\n",
              "          element.innerHTML = '';\n",
              "          dataTable['output_type'] = 'display_data';\n",
              "          await google.colab.output.renderOutput(dataTable, element);\n",
              "          const docLink = document.createElement('div');\n",
              "          docLink.innerHTML = docLinkHtml;\n",
              "          element.appendChild(docLink);\n",
              "        }\n",
              "      </script>\n",
              "    </div>\n",
              "  </div>\n",
              "  "
            ]
          },
          "metadata": {},
          "execution_count": 45
        }
      ]
    },
    {
      "cell_type": "code",
      "source": [
        "output.to_csv('output.csv', encoding='utf-8', index=False)"
      ],
      "metadata": {
        "id": "wKbc4L9JyEdi"
      },
      "execution_count": null,
      "outputs": []
    },
    {
      "cell_type": "markdown",
      "source": [
        "#GBM Base Model"
      ],
      "metadata": {
        "id": "iQ3__MOC23Hx"
      }
    },
    {
      "cell_type": "code",
      "source": [],
      "metadata": {
        "id": "4xQ5HImcxeN0"
      },
      "execution_count": null,
      "outputs": []
    },
    {
      "cell_type": "code",
      "source": [
        "gbc_model = GradientBoostingClassifier( n_estimators=100,\n",
        "                                  random_state=42)   \n",
        "gbc_model.fit(X_train,y_train)"
      ],
      "metadata": {
        "colab": {
          "base_uri": "https://localhost:8080/",
          "height": 130
        },
        "id": "HaqqSo-G2zMm",
        "outputId": "f0f757f6-6f45-4784-d53a-89f327276315"
      },
      "execution_count": null,
      "outputs": [
        {
          "output_type": "stream",
          "name": "stderr",
          "text": [
            "/usr/local/lib/python3.9/dist-packages/sklearn/ensemble/_gb.py:437: DataConversionWarning: A column-vector y was passed when a 1d array was expected. Please change the shape of y to (n_samples, ), for example using ravel().\n",
            "  y = column_or_1d(y, warn=True)\n"
          ]
        },
        {
          "output_type": "execute_result",
          "data": {
            "text/plain": [
              "GradientBoostingClassifier(random_state=42)"
            ],
            "text/html": [
              "<style>#sk-container-id-2 {color: black;background-color: white;}#sk-container-id-2 pre{padding: 0;}#sk-container-id-2 div.sk-toggleable {background-color: white;}#sk-container-id-2 label.sk-toggleable__label {cursor: pointer;display: block;width: 100%;margin-bottom: 0;padding: 0.3em;box-sizing: border-box;text-align: center;}#sk-container-id-2 label.sk-toggleable__label-arrow:before {content: \"▸\";float: left;margin-right: 0.25em;color: #696969;}#sk-container-id-2 label.sk-toggleable__label-arrow:hover:before {color: black;}#sk-container-id-2 div.sk-estimator:hover label.sk-toggleable__label-arrow:before {color: black;}#sk-container-id-2 div.sk-toggleable__content {max-height: 0;max-width: 0;overflow: hidden;text-align: left;background-color: #f0f8ff;}#sk-container-id-2 div.sk-toggleable__content pre {margin: 0.2em;color: black;border-radius: 0.25em;background-color: #f0f8ff;}#sk-container-id-2 input.sk-toggleable__control:checked~div.sk-toggleable__content {max-height: 200px;max-width: 100%;overflow: auto;}#sk-container-id-2 input.sk-toggleable__control:checked~label.sk-toggleable__label-arrow:before {content: \"▾\";}#sk-container-id-2 div.sk-estimator input.sk-toggleable__control:checked~label.sk-toggleable__label {background-color: #d4ebff;}#sk-container-id-2 div.sk-label input.sk-toggleable__control:checked~label.sk-toggleable__label {background-color: #d4ebff;}#sk-container-id-2 input.sk-hidden--visually {border: 0;clip: rect(1px 1px 1px 1px);clip: rect(1px, 1px, 1px, 1px);height: 1px;margin: -1px;overflow: hidden;padding: 0;position: absolute;width: 1px;}#sk-container-id-2 div.sk-estimator {font-family: monospace;background-color: #f0f8ff;border: 1px dotted black;border-radius: 0.25em;box-sizing: border-box;margin-bottom: 0.5em;}#sk-container-id-2 div.sk-estimator:hover {background-color: #d4ebff;}#sk-container-id-2 div.sk-parallel-item::after {content: \"\";width: 100%;border-bottom: 1px solid gray;flex-grow: 1;}#sk-container-id-2 div.sk-label:hover label.sk-toggleable__label {background-color: #d4ebff;}#sk-container-id-2 div.sk-serial::before {content: \"\";position: absolute;border-left: 1px solid gray;box-sizing: border-box;top: 0;bottom: 0;left: 50%;z-index: 0;}#sk-container-id-2 div.sk-serial {display: flex;flex-direction: column;align-items: center;background-color: white;padding-right: 0.2em;padding-left: 0.2em;position: relative;}#sk-container-id-2 div.sk-item {position: relative;z-index: 1;}#sk-container-id-2 div.sk-parallel {display: flex;align-items: stretch;justify-content: center;background-color: white;position: relative;}#sk-container-id-2 div.sk-item::before, #sk-container-id-2 div.sk-parallel-item::before {content: \"\";position: absolute;border-left: 1px solid gray;box-sizing: border-box;top: 0;bottom: 0;left: 50%;z-index: -1;}#sk-container-id-2 div.sk-parallel-item {display: flex;flex-direction: column;z-index: 1;position: relative;background-color: white;}#sk-container-id-2 div.sk-parallel-item:first-child::after {align-self: flex-end;width: 50%;}#sk-container-id-2 div.sk-parallel-item:last-child::after {align-self: flex-start;width: 50%;}#sk-container-id-2 div.sk-parallel-item:only-child::after {width: 0;}#sk-container-id-2 div.sk-dashed-wrapped {border: 1px dashed gray;margin: 0 0.4em 0.5em 0.4em;box-sizing: border-box;padding-bottom: 0.4em;background-color: white;}#sk-container-id-2 div.sk-label label {font-family: monospace;font-weight: bold;display: inline-block;line-height: 1.2em;}#sk-container-id-2 div.sk-label-container {text-align: center;}#sk-container-id-2 div.sk-container {/* jupyter's `normalize.less` sets `[hidden] { display: none; }` but bootstrap.min.css set `[hidden] { display: none !important; }` so we also need the `!important` here to be able to override the default hidden behavior on the sphinx rendered scikit-learn.org. See: https://github.com/scikit-learn/scikit-learn/issues/21755 */display: inline-block !important;position: relative;}#sk-container-id-2 div.sk-text-repr-fallback {display: none;}</style><div id=\"sk-container-id-2\" class=\"sk-top-container\"><div class=\"sk-text-repr-fallback\"><pre>GradientBoostingClassifier(random_state=42)</pre><b>In a Jupyter environment, please rerun this cell to show the HTML representation or trust the notebook. <br />On GitHub, the HTML representation is unable to render, please try loading this page with nbviewer.org.</b></div><div class=\"sk-container\" hidden><div class=\"sk-item\"><div class=\"sk-estimator sk-toggleable\"><input class=\"sk-toggleable__control sk-hidden--visually\" id=\"sk-estimator-id-2\" type=\"checkbox\" checked><label for=\"sk-estimator-id-2\" class=\"sk-toggleable__label sk-toggleable__label-arrow\">GradientBoostingClassifier</label><div class=\"sk-toggleable__content\"><pre>GradientBoostingClassifier(random_state=42)</pre></div></div></div></div></div>"
            ]
          },
          "metadata": {},
          "execution_count": 29
        }
      ]
    },
    {
      "cell_type": "code",
      "source": [
        "y_predict_gbc = gbc_model.predict(X_test)"
      ],
      "metadata": {
        "id": "MpRO_4EB26No"
      },
      "execution_count": null,
      "outputs": []
    },
    {
      "cell_type": "code",
      "source": [
        "confusion_matrix(y_test,y_predict_gbc, labels = [0,1])"
      ],
      "metadata": {
        "colab": {
          "base_uri": "https://localhost:8080/"
        },
        "id": "xypc0RlN2-FJ",
        "outputId": "8df5b616-0bb0-4beb-fe83-a619524d13b9"
      },
      "execution_count": null,
      "outputs": [
        {
          "output_type": "execute_result",
          "data": {
            "text/plain": [
              "array([[1051,   45],\n",
              "       [ 234,   69]])"
            ]
          },
          "metadata": {},
          "execution_count": 31
        }
      ]
    },
    {
      "cell_type": "code",
      "source": [
        "print (classification_report (y_test,y_predict_gbc))"
      ],
      "metadata": {
        "colab": {
          "base_uri": "https://localhost:8080/"
        },
        "id": "WvS9kb0x2_ty",
        "outputId": "8c77a40a-46b3-4a8e-e0c1-6bd9dc232724"
      },
      "execution_count": null,
      "outputs": [
        {
          "output_type": "stream",
          "name": "stdout",
          "text": [
            "              precision    recall  f1-score   support\n",
            "\n",
            "         0.0       0.82      0.96      0.88      1096\n",
            "         1.0       0.61      0.23      0.33       303\n",
            "\n",
            "    accuracy                           0.80      1399\n",
            "   macro avg       0.71      0.59      0.61      1399\n",
            "weighted avg       0.77      0.80      0.76      1399\n",
            "\n"
          ]
        }
      ]
    },
    {
      "cell_type": "code",
      "source": [
        "feat_importances = pd.Series(gbc_model.feature_importances_, index=X_train.columns)\n",
        "feat_importances.nlargest(10).plot(kind='barh')"
      ],
      "metadata": {
        "colab": {
          "base_uri": "https://localhost:8080/",
          "height": 448
        },
        "id": "AoVUZLUW3B3k",
        "outputId": "ff71eb87-555c-4944-e63b-96e400677b8e"
      },
      "execution_count": null,
      "outputs": [
        {
          "output_type": "execute_result",
          "data": {
            "text/plain": [
              "<Axes: >"
            ]
          },
          "metadata": {},
          "execution_count": 33
        },
        {
          "output_type": "display_data",
          "data": {
            "text/plain": [
              "<Figure size 640x480 with 1 Axes>"
            ],
            "image/png": "[encoded data removed]"
          },
          "metadata": {}
        }
      ]
    },
    {
      "cell_type": "code",
      "source": [
        "preds = clf_model.predict(temp_df.loc[temp_df.label == 'oot'].drop(['label', 'decision_id', 'default'],axis=1))"
      ],
      "metadata": {
        "colab": {
          "base_uri": "https://localhost:8080/"
        },
        "id": "7h-6gjjt62v8",
        "outputId": "840e6afd-f20e-4b74-b0c1-e0e7eb44f2bb"
      },
      "execution_count": null,
      "outputs": [
        {
          "output_type": "stream",
          "name": "stderr",
          "text": [
            "[Parallel(n_jobs=2)]: Using backend ThreadingBackend with 2 concurrent workers.\n",
            "[Parallel(n_jobs=2)]: Done  37 tasks      | elapsed:    0.0s\n",
            "[Parallel(n_jobs=2)]: Done 100 out of 100 | elapsed:    0.0s finished\n"
          ]
        }
      ]
    },
    {
      "cell_type": "code",
      "source": [
        "prediction_df = pd.DataFrame(preds.T, columns=['prediction'])"
      ],
      "metadata": {
        "id": "lkYa-fqZ684o"
      },
      "execution_count": null,
      "outputs": []
    },
    {
      "cell_type": "markdown",
      "source": [
        "## Feature Selection usng Filter method"
      ],
      "metadata": {
        "id": "pEwOsmNS9mfF"
      }
    },
    {
      "cell_type": "code",
      "source": [
        "# feature selection\n",
        "def select_features(X_train, y_train, X_test):\n",
        " # configure to select all features\n",
        " fs_top_50 = SelectKBest(score_func=f_classif, k= 50)\n",
        " # learn relationship from training data\n",
        " fs_top_50.fit(X_train, y_train)\n",
        "\n",
        " # transform train and test input data\n",
        " X_train_top_50 = fs_top_50.transform(X_train)\n",
        " X_test_top_50 = fs_top_50.transform(X_test)\n",
        "\n",
        " return X_train_top_50, X_test_top_50, fs_top_50\n",
        " "
      ],
      "metadata": {
        "id": "gXSmLIHa9q1P"
      },
      "execution_count": null,
      "outputs": []
    },
    {
      "cell_type": "code",
      "source": [
        "# feature selection\n",
        "X_train_top_50,X_test_top_50, fs_top_50 = select_features(X_train, y_train, X_test)\n",
        "# what are scores for the features\n",
        "for i in range(len(fs_top_50.scores_)):\n",
        " print('Feature %d: %f' % (i, fs_top_50.scores_[i]))\n",
        "# plot the scores\n",
        "pyplot.bar([i for i in range(len(fs_top_50.scores_))], fs_top_50.scores_)\n",
        "pyplot.show()"
      ],
      "metadata": {
        "colab": {
          "base_uri": "https://localhost:8080/",
          "height": 1000
        },
        "id": "Amb-E02P97V4",
        "outputId": "5e60394a-0d99-4200-d5e7-7c231d0c1d40"
      },
      "execution_count": null,
      "outputs": [
        {
          "output_type": "stream",
          "name": "stderr",
          "text": [
            "/usr/local/lib/python3.9/dist-packages/sklearn/utils/validation.py:1143: DataConversionWarning: A column-vector y was passed when a 1d array was expected. Please change the shape of y to (n_samples, ), for example using ravel().\n",
            "  y = column_or_1d(y, warn=True)\n"
          ]
        },
        {
          "output_type": "stream",
          "name": "stdout",
          "text": [
            "Feature 0: 52.371645\n",
            "Feature 1: 72.483973\n",
            "Feature 2: 0.161524\n",
            "Feature 3: 7.884004\n",
            "Feature 4: 15.961700\n",
            "Feature 5: 3.605207\n",
            "Feature 6: 2.325785\n",
            "Feature 7: 1.731490\n",
            "Feature 8: 5.461983\n",
            "Feature 9: 1.580925\n",
            "Feature 10: 131.698632\n",
            "Feature 11: 9.740864\n",
            "Feature 12: 0.612109\n",
            "Feature 13: 0.277049\n",
            "Feature 14: 39.025317\n",
            "Feature 15: 26.568876\n",
            "Feature 16: 5.643193\n",
            "Feature 17: 1.564377\n",
            "Feature 18: 0.020407\n",
            "Feature 19: 0.947716\n",
            "Feature 20: 0.309187\n",
            "Feature 21: 0.584076\n",
            "Feature 22: 13.155053\n",
            "Feature 23: 0.456815\n",
            "Feature 24: 0.733173\n",
            "Feature 25: 3.866740\n",
            "Feature 26: 2.604164\n",
            "Feature 27: 6.365671\n",
            "Feature 28: 3.526795\n",
            "Feature 29: 74.607336\n",
            "Feature 30: 121.645431\n",
            "Feature 31: 1.556981\n",
            "Feature 32: 2.579427\n",
            "Feature 33: 1.567671\n",
            "Feature 34: 1.897318\n",
            "Feature 35: 85.954567\n",
            "Feature 36: 37.579189\n",
            "Feature 37: 74.220405\n",
            "Feature 38: 8.271088\n",
            "Feature 39: 0.585542\n",
            "Feature 40: 6.571457\n",
            "Feature 41: 0.329030\n",
            "Feature 42: 75.023527\n",
            "Feature 43: 68.874806\n",
            "Feature 44: 51.228147\n",
            "Feature 45: 0.002602\n",
            "Feature 46: 1.803761\n",
            "Feature 47: 0.578628\n",
            "Feature 48: 2.097129\n",
            "Feature 49: 0.352637\n",
            "Feature 50: 17.028309\n",
            "Feature 51: 19.958518\n",
            "Feature 52: 0.186289\n",
            "Feature 53: 1.863624\n",
            "Feature 54: 15.754642\n",
            "Feature 55: 0.023885\n",
            "Feature 56: 48.339812\n",
            "Feature 57: 2.678627\n"
          ]
        },
        {
          "output_type": "display_data",
          "data": {
            "text/plain": [
              "<Figure size 640x480 with 1 Axes>"
            ],
            "image/png": "[encoded data removed]"
          },
          "metadata": {}
        }
      ]
    },
    {
      "cell_type": "code",
      "source": [
        "X_train_top_50.shape, X_train.shape"
      ],
      "metadata": {
        "colab": {
          "base_uri": "https://localhost:8080/"
        },
        "id": "kGg49jqd-F4M",
        "outputId": "9d99eb48-a433-44db-9c7c-5e496b5590f4"
      },
      "execution_count": null,
      "outputs": [
        {
          "output_type": "execute_result",
          "data": {
            "text/plain": [
              "((3262, 50), (3262, 58))"
            ]
          },
          "metadata": {},
          "execution_count": 50
        }
      ]
    },
    {
      "cell_type": "code",
      "source": [
        "#Training and Validating the model by using a subset of feature\n",
        "clf_model.fit(X_train_top_50,y_train)\n",
        "y_predict_top_50 = clf_model.predict(X_test_top_50)"
      ],
      "metadata": {
        "colab": {
          "base_uri": "https://localhost:8080/"
        },
        "id": "vrB0-cvv_EdI",
        "outputId": "ec40d4ad-c656-45b6-bc73-b619d3ece271"
      },
      "execution_count": null,
      "outputs": [
        {
          "output_type": "stream",
          "name": "stderr",
          "text": [
            "<ipython-input-51-2035ed75b5c9>:2: DataConversionWarning: A column-vector y was passed when a 1d array was expected. Please change the shape of y to (n_samples,), for example using ravel().\n",
            "  clf_model.fit(X_train_top_50,y_train)\n",
            "[Parallel(n_jobs=-1)]: Using backend ThreadingBackend with 2 concurrent workers.\n"
          ]
        },
        {
          "output_type": "stream",
          "name": "stdout",
          "text": [
            "building tree 1 of 100\n",
            "building tree 2 of 100\n",
            "building tree 3 of 100\n",
            "building tree 4 of 100\n",
            "building tree 5 of 100\n",
            "building tree 6 of 100\n",
            "building tree 7 of 100\n",
            "building tree 8 of 100\n",
            "building tree 9 of 100\n",
            "building tree 10 of 100\n",
            "building tree 11 of 100\n",
            "building tree 12 of 100\n",
            "building tree 13 of 100\n",
            "building tree 14 of 100\n",
            "building tree 15 of 100\n",
            "building tree 16 of 100\n",
            "building tree 17 of 100\n",
            "building tree 18 of 100\n",
            "building tree 19 of 100\n",
            "building tree 20 of 100\n",
            "building tree 21 of 100\n",
            "building tree 22 of 100\n",
            "building tree 23 of 100\n",
            "building tree 24 of 100\n",
            "building tree 25 of 100\n",
            "building tree 26 of 100\n",
            "building tree 27 of 100\n",
            "building tree 28 of 100\n",
            "building tree 29 of 100\n",
            "building tree 30 of 100\n",
            "building tree 31 of 100\n",
            "building tree 32 of 100\n",
            "building tree 33 of 100\n",
            "building tree 34 of 100\n",
            "building tree 35 of 100\n",
            "building tree 36 of 100\n",
            "building tree 37 of 100\n",
            "building tree 38 of 100\n",
            "building tree 39 of 100\n",
            "building tree 40 of 100\n",
            "building tree 41 of 100\n",
            "building tree 42 of 100\n",
            "building tree 43 of 100\n",
            "building tree 44 of 100\n",
            "building tree 45 of 100\n",
            "building tree 46 of 100\n",
            "building tree 47 of 100\n",
            "building tree 48 of 100\n",
            "building tree 49 of 100\n",
            "building tree 50 of 100\n",
            "building tree 51 of 100\n",
            "building tree 52 of 100\n",
            "building tree 53 of 100\n",
            "building tree 54 of 100\n",
            "building tree 55 of 100\n",
            "building tree 56 of 100\n",
            "building tree 57 of 100\n",
            "building tree 58 of 100\n",
            "building tree 59 of 100\n"
          ]
        },
        {
          "output_type": "stream",
          "name": "stderr",
          "text": [
            "[Parallel(n_jobs=-1)]: Done  37 tasks      | elapsed:    0.3s\n"
          ]
        },
        {
          "output_type": "stream",
          "name": "stdout",
          "text": [
            "building tree 60 of 100\n",
            "building tree 61 of 100\n",
            "building tree 62 of 100\n",
            "building tree 63 of 100\n",
            "building tree 64 of 100\n",
            "building tree 65 of 100\n",
            "building tree 66 of 100\n",
            "building tree 67 of 100\n",
            "building tree 68 of 100\n",
            "building tree 69 of 100\n",
            "building tree 70 of 100\n",
            "building tree 71 of 100\n",
            "building tree 72 of 100\n",
            "building tree 73 of 100\n",
            "building tree 74 of 100\n",
            "building tree 75 of 100\n",
            "building tree 76 of 100\n",
            "building tree 77 of 100\n",
            "building tree 78 of 100\n",
            "building tree 79 of 100\n",
            "building tree 80 of 100\n",
            "building tree 81 of 100\n",
            "building tree 82 of 100\n",
            "building tree 83 of 100\n",
            "building tree 84 of 100\n",
            "building tree 85 of 100\n",
            "building tree 86 of 100\n",
            "building tree 87 of 100\n",
            "building tree 88 of 100\n",
            "building tree 89 of 100\n",
            "building tree 90 of 100\n",
            "building tree 91 of 100\n",
            "building tree 92 of 100\n",
            "building tree 93 of 100\n",
            "building tree 94 of 100\n",
            "building tree 95 of 100\n",
            "building tree 96 of 100\n",
            "building tree 97 of 100\n",
            "building tree 98 of 100\n",
            "building tree 99 of 100\n",
            "building tree 100 of 100\n"
          ]
        },
        {
          "output_type": "stream",
          "name": "stderr",
          "text": [
            "[Parallel(n_jobs=-1)]: Done 100 out of 100 | elapsed:    0.7s finished\n",
            "[Parallel(n_jobs=2)]: Using backend ThreadingBackend with 2 concurrent workers.\n",
            "[Parallel(n_jobs=2)]: Done  37 tasks      | elapsed:    0.0s\n",
            "[Parallel(n_jobs=2)]: Done 100 out of 100 | elapsed:    0.0s finished\n"
          ]
        }
      ]
    },
    {
      "cell_type": "code",
      "source": [
        "accuracy_score(y_test,y_predict_top_50)"
      ],
      "metadata": {
        "colab": {
          "base_uri": "https://localhost:8080/"
        },
        "id": "H0ts0YSsBmu2",
        "outputId": "381feca0-913c-481a-8eb4-11985d2d5946"
      },
      "execution_count": null,
      "outputs": [
        {
          "output_type": "execute_result",
          "data": {
            "text/plain": [
              "0.7884203002144389"
            ]
          },
          "metadata": {},
          "execution_count": 52
        }
      ]
    },
    {
      "cell_type": "code",
      "source": [
        "confusion_matrix(y_test,y_predict_top_50, labels = [0,1])"
      ],
      "metadata": {
        "colab": {
          "base_uri": "https://localhost:8080/"
        },
        "id": "qsAmn1EdB6bk",
        "outputId": "c9596f50-622d-4e20-ed4c-4f65bb651194"
      },
      "execution_count": null,
      "outputs": [
        {
          "output_type": "execute_result",
          "data": {
            "text/plain": [
              "array([[972, 124],\n",
              "       [172, 131]])"
            ]
          },
          "metadata": {},
          "execution_count": 53
        }
      ]
    },
    {
      "cell_type": "code",
      "source": [
        "print (classification_report (y_test,y_predict_top_50))"
      ],
      "metadata": {
        "colab": {
          "base_uri": "https://localhost:8080/"
        },
        "id": "dj689NXXCEz4",
        "outputId": "9541cf7d-2e8b-499b-9f00-a2741475d63c"
      },
      "execution_count": null,
      "outputs": [
        {
          "output_type": "stream",
          "name": "stdout",
          "text": [
            "              precision    recall  f1-score   support\n",
            "\n",
            "         0.0       0.85      0.89      0.87      1096\n",
            "         1.0       0.51      0.43      0.47       303\n",
            "\n",
            "    accuracy                           0.79      1399\n",
            "   macro avg       0.68      0.66      0.67      1399\n",
            "weighted avg       0.78      0.79      0.78      1399\n",
            "\n"
          ]
        }
      ]
    },
    {
      "cell_type": "code",
      "source": [],
      "metadata": {
        "id": "_jFRn78WCOQz"
      },
      "execution_count": null,
      "outputs": []
    }
  ]
}